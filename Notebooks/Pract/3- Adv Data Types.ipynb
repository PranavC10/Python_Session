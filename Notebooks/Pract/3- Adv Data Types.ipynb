{
 "cells": [
  {
   "cell_type": "markdown",
   "id": "1c064512",
   "metadata": {},
   "source": [
    "## Advance Data types\n",
    "\n",
    "Python has four collection data types:\n",
    "\n",
    "* Lists\n",
    "* Tuples\n",
    "* Sets\n",
    "* Dictionaries\n",
    "\n",
    "These data types allow for a greater number of operations because they can hold multiple elements.  In order to ease into deadling with collections, we will first recall some properties of another collection data type: strings.\n"
   ]
  },
  {
   "cell_type": "markdown",
   "id": "b769ced4",
   "metadata": {},
   "source": [
    "### Lists\n",
    "A list is an ordered sequence of elements, with that order being specified by the order that the elements are in when the list is created or as elements are added to the list. We create a list by using the `[]` syntax.\n",
    "\n",
    "Let's go back to our obsession with pets, and imagine we own a pet store that carries a number of different species of pets."
   ]
  },
  {
   "cell_type": "code",
   "execution_count": 40,
   "id": "4b7e4ca2",
   "metadata": {},
   "outputs": [],
   "source": [
    "pets=[\"dogs\",\"cats\",\"fish\"]"
   ]
  },
  {
   "cell_type": "code",
   "execution_count": 41,
   "id": "1320b4ea",
   "metadata": {},
   "outputs": [
    {
     "data": {
      "text/plain": [
       "['dogs', 'cats', 'fish']"
      ]
     },
     "execution_count": 41,
     "metadata": {},
     "output_type": "execute_result"
    }
   ],
   "source": [
    "pets"
   ]
  },
  {
   "cell_type": "code",
   "execution_count": 42,
   "id": "6cb3de5b",
   "metadata": {},
   "outputs": [
    {
     "data": {
      "text/plain": [
       "list"
      ]
     },
     "execution_count": 42,
     "metadata": {},
     "output_type": "execute_result"
    }
   ],
   "source": [
    "type(pets)"
   ]
  },
  {
   "cell_type": "code",
   "execution_count": 43,
   "id": "5bdb8262",
   "metadata": {},
   "outputs": [
    {
     "data": {
      "text/plain": [
       "'dogs'"
      ]
     },
     "execution_count": 43,
     "metadata": {},
     "output_type": "execute_result"
    }
   ],
   "source": [
    "pets[0]"
   ]
  },
  {
   "cell_type": "code",
   "execution_count": 44,
   "id": "89e4f257",
   "metadata": {},
   "outputs": [
    {
     "data": {
      "text/plain": [
       "'cats'"
      ]
     },
     "execution_count": 44,
     "metadata": {},
     "output_type": "execute_result"
    }
   ],
   "source": [
    "pets[1]"
   ]
  },
  {
   "cell_type": "markdown",
   "id": "24ef45fc",
   "metadata": {},
   "source": [
    "Notice that the list printed the elements in the same order in which they were created. Unlike strings, **lists are mutable**. Thus, we can change them. \n",
    "\n",
    "If we want to add an element to the list, we `append()` the new element to the list."
   ]
  },
  {
   "cell_type": "code",
   "execution_count": 45,
   "id": "db93c47a",
   "metadata": {},
   "outputs": [
    {
     "data": {
      "text/plain": [
       "['dogs', 'cats', 'fish']"
      ]
     },
     "execution_count": 45,
     "metadata": {},
     "output_type": "execute_result"
    }
   ],
   "source": [
    "pets"
   ]
  },
  {
   "cell_type": "code",
   "execution_count": 46,
   "id": "d1fe5468",
   "metadata": {},
   "outputs": [],
   "source": [
    "pets.append(\"Birds\") # adding element to existing list"
   ]
  },
  {
   "cell_type": "code",
   "execution_count": 47,
   "id": "71bc85c1",
   "metadata": {},
   "outputs": [
    {
     "data": {
      "text/plain": [
       "['dogs', 'cats', 'fish', 'Birds']"
      ]
     },
     "execution_count": 47,
     "metadata": {},
     "output_type": "execute_result"
    }
   ],
   "source": [
    "pets"
   ]
  },
  {
   "cell_type": "code",
   "execution_count": 48,
   "id": "fa31d9e9",
   "metadata": {},
   "outputs": [
    {
     "ename": "TypeError",
     "evalue": "list.append() takes exactly one argument (2 given)",
     "output_type": "error",
     "traceback": [
      "\u001b[1;31m---------------------------------------------------------------------------\u001b[0m",
      "\u001b[1;31mTypeError\u001b[0m                                 Traceback (most recent call last)",
      "\u001b[1;32m~\\AppData\\Local\\Temp/ipykernel_16664/324859128.py\u001b[0m in \u001b[0;36m<module>\u001b[1;34m\u001b[0m\n\u001b[1;32m----> 1\u001b[1;33m \u001b[0mpets\u001b[0m\u001b[1;33m.\u001b[0m\u001b[0mappend\u001b[0m\u001b[1;33m(\u001b[0m\u001b[1;34m\"parrot\"\u001b[0m\u001b[1;33m,\u001b[0m\u001b[1;34m\"dolphin\"\u001b[0m\u001b[1;33m)\u001b[0m\u001b[1;33m\u001b[0m\u001b[1;33m\u001b[0m\u001b[0m\n\u001b[0m",
      "\u001b[1;31mTypeError\u001b[0m: list.append() takes exactly one argument (2 given)"
     ]
    }
   ],
   "source": [
    "#pets.append(\"parrot\",\"dolphin\")"
   ]
  },
  {
   "cell_type": "code",
   "execution_count": 49,
   "id": "06267f0a",
   "metadata": {},
   "outputs": [],
   "source": [
    "pets.append([\"parrot\",\"dolphin\"])"
   ]
  },
  {
   "cell_type": "code",
   "execution_count": 50,
   "id": "50054b39",
   "metadata": {},
   "outputs": [
    {
     "data": {
      "text/plain": [
       "['dogs', 'cats', 'fish', 'Birds', ['parrot', 'dolphin']]"
      ]
     },
     "execution_count": 50,
     "metadata": {},
     "output_type": "execute_result"
    }
   ],
   "source": [
    "pets"
   ]
  },
  {
   "cell_type": "code",
   "execution_count": 51,
   "id": "7624e4ad",
   "metadata": {},
   "outputs": [
    {
     "data": {
      "text/plain": [
       "['parrot', 'dolphin']"
      ]
     },
     "execution_count": 51,
     "metadata": {},
     "output_type": "execute_result"
    }
   ],
   "source": [
    "pets[4]"
   ]
  },
  {
   "cell_type": "code",
   "execution_count": 52,
   "id": "0a2017f7",
   "metadata": {},
   "outputs": [
    {
     "data": {
      "text/plain": [
       "'dolphin'"
      ]
     },
     "execution_count": 52,
     "metadata": {},
     "output_type": "execute_result"
    }
   ],
   "source": [
    "pets[4][1]"
   ]
  },
  {
   "cell_type": "code",
   "execution_count": 53,
   "id": "c7e21b61",
   "metadata": {},
   "outputs": [],
   "source": [
    "pets.remove([\"parrot\",\"dolphin\"]) # removing element from the list"
   ]
  },
  {
   "cell_type": "code",
   "execution_count": 54,
   "id": "5347165f",
   "metadata": {},
   "outputs": [
    {
     "data": {
      "text/plain": [
       "['dogs', 'cats', 'fish', 'Birds']"
      ]
     },
     "execution_count": 54,
     "metadata": {},
     "output_type": "execute_result"
    }
   ],
   "source": [
    "pets"
   ]
  },
  {
   "cell_type": "code",
   "execution_count": null,
   "id": "7267ad60",
   "metadata": {},
   "outputs": [],
   "source": []
  },
  {
   "cell_type": "markdown",
   "id": "4efd59ba",
   "metadata": {},
   "source": [
    "This is not what I had in mind, I wanted to add 'parrot' and 'dolphin', not the list `['parrot', 'dolphin']`. If we want to add multiple additional values, we can either append them one by one, or we can `extend()` our list `pets` with the list of additional pets that our pet shop carries."
   ]
  },
  {
   "cell_type": "code",
   "execution_count": 55,
   "id": "d7c9a311",
   "metadata": {},
   "outputs": [],
   "source": [
    "pets.extend([\"parrot\",\"dolphin\"])"
   ]
  },
  {
   "cell_type": "code",
   "execution_count": 56,
   "id": "8ac877e9",
   "metadata": {},
   "outputs": [
    {
     "data": {
      "text/plain": [
       "['dogs', 'cats', 'fish', 'Birds', 'parrot', 'dolphin']"
      ]
     },
     "execution_count": 56,
     "metadata": {},
     "output_type": "execute_result"
    }
   ],
   "source": [
    "pets"
   ]
  },
  {
   "cell_type": "code",
   "execution_count": 57,
   "id": "7c03faac",
   "metadata": {},
   "outputs": [
    {
     "data": {
      "text/plain": [
       "'parrot'"
      ]
     },
     "execution_count": 57,
     "metadata": {},
     "output_type": "execute_result"
    }
   ],
   "source": [
    "pets[4]"
   ]
  },
  {
   "cell_type": "code",
   "execution_count": 58,
   "id": "98307b39",
   "metadata": {},
   "outputs": [
    {
     "data": {
      "text/plain": [
       "'dolphin'"
      ]
     },
     "execution_count": 58,
     "metadata": {},
     "output_type": "execute_result"
    }
   ],
   "source": [
    "pets[5]"
   ]
  },
  {
   "cell_type": "code",
   "execution_count": 59,
   "id": "4e4d8401",
   "metadata": {},
   "outputs": [
    {
     "data": {
      "text/plain": [
       "['dogs', 'cats', 'fish', 'Birds', 'parrot', 'dolphin', 'Chameleon', 'Hamster']"
      ]
     },
     "execution_count": 59,
     "metadata": {},
     "output_type": "execute_result"
    }
   ],
   "source": [
    "pets + [\"Chameleon\",\"Hamster\"]"
   ]
  },
  {
   "cell_type": "code",
   "execution_count": 60,
   "id": "c943c6a4",
   "metadata": {},
   "outputs": [
    {
     "data": {
      "text/plain": [
       "['dogs', 'cats', 'fish', 'Birds', 'parrot', 'dolphin']"
      ]
     },
     "execution_count": 60,
     "metadata": {},
     "output_type": "execute_result"
    }
   ],
   "source": [
    "pets"
   ]
  },
  {
   "cell_type": "code",
   "execution_count": 61,
   "id": "040796a1",
   "metadata": {},
   "outputs": [],
   "source": [
    "pets=pets + [\"Chameleon\",\"Hamster\"]"
   ]
  },
  {
   "cell_type": "code",
   "execution_count": 62,
   "id": "9e9d7f3a",
   "metadata": {},
   "outputs": [
    {
     "data": {
      "text/plain": [
       "['dogs', 'cats', 'fish', 'Birds', 'parrot', 'dolphin', 'Chameleon', 'Hamster']"
      ]
     },
     "execution_count": 62,
     "metadata": {},
     "output_type": "execute_result"
    }
   ],
   "source": [
    "pets"
   ]
  },
  {
   "cell_type": "markdown",
   "id": "12648fb2",
   "metadata": {},
   "source": [
    "And just like strings, we can use both of the additive math operators. I'll use a small number here so as not to flood the screen, but we can multiply the list too."
   ]
  },
  {
   "cell_type": "code",
   "execution_count": 63,
   "id": "611fa7ef",
   "metadata": {},
   "outputs": [
    {
     "data": {
      "text/plain": [
       "['dogs',\n",
       " 'cats',\n",
       " 'fish',\n",
       " 'Birds',\n",
       " 'parrot',\n",
       " 'dolphin',\n",
       " 'Chameleon',\n",
       " 'Hamster',\n",
       " 'dogs',\n",
       " 'cats',\n",
       " 'fish',\n",
       " 'Birds',\n",
       " 'parrot',\n",
       " 'dolphin',\n",
       " 'Chameleon',\n",
       " 'Hamster']"
      ]
     },
     "execution_count": 63,
     "metadata": {},
     "output_type": "execute_result"
    }
   ],
   "source": [
    "pets * 2"
   ]
  },
  {
   "cell_type": "code",
   "execution_count": 64,
   "id": "475a88f8",
   "metadata": {},
   "outputs": [
    {
     "ename": "TypeError",
     "evalue": "unsupported operand type(s) for -: 'list' and 'list'",
     "output_type": "error",
     "traceback": [
      "\u001b[1;31m---------------------------------------------------------------------------\u001b[0m",
      "\u001b[1;31mTypeError\u001b[0m                                 Traceback (most recent call last)",
      "\u001b[1;32m~\\AppData\\Local\\Temp/ipykernel_16664/1208691374.py\u001b[0m in \u001b[0;36m<module>\u001b[1;34m\u001b[0m\n\u001b[1;32m----> 1\u001b[1;33m \u001b[0mpets\u001b[0m \u001b[1;33m-\u001b[0m \u001b[1;33m[\u001b[0m\u001b[1;34m\"fish\"\u001b[0m\u001b[1;33m]\u001b[0m \u001b[1;31m# not supported\u001b[0m\u001b[1;33m\u001b[0m\u001b[1;33m\u001b[0m\u001b[0m\n\u001b[0m",
      "\u001b[1;31mTypeError\u001b[0m: unsupported operand type(s) for -: 'list' and 'list'"
     ]
    }
   ],
   "source": [
    "pets - [\"fish\"] # not supported "
   ]
  },
  {
   "cell_type": "code",
   "execution_count": 65,
   "id": "2cb4af16",
   "metadata": {},
   "outputs": [
    {
     "data": {
      "text/plain": [
       "['dogs', 'cats', 'fish', 'Birds', 'parrot', 'dolphin', 'Chameleon', 'Hamster']"
      ]
     },
     "execution_count": 65,
     "metadata": {},
     "output_type": "execute_result"
    }
   ],
   "source": [
    "pets"
   ]
  },
  {
   "cell_type": "code",
   "execution_count": 66,
   "id": "73145fdb",
   "metadata": {},
   "outputs": [
    {
     "data": {
      "text/plain": [
       "8"
      ]
     },
     "execution_count": 66,
     "metadata": {},
     "output_type": "execute_result"
    }
   ],
   "source": [
    "len(pets) # size of list "
   ]
  },
  {
   "cell_type": "markdown",
   "id": "4a071604",
   "metadata": {},
   "source": [
    "As for strings, subtraction and division are not implemented for lists. The reason is that it is not clear what subtracting two lists should produce."
   ]
  },
  {
   "cell_type": "code",
   "execution_count": 67,
   "id": "107c1baf",
   "metadata": {},
   "outputs": [
    {
     "data": {
      "text/plain": [
       "1"
      ]
     },
     "execution_count": 67,
     "metadata": {},
     "output_type": "execute_result"
    }
   ],
   "source": [
    "pets.count(\"dogs\")"
   ]
  },
  {
   "cell_type": "code",
   "execution_count": 68,
   "id": "2f601556",
   "metadata": {},
   "outputs": [],
   "source": [
    "pets.append(\"dogs\")"
   ]
  },
  {
   "cell_type": "code",
   "execution_count": 70,
   "id": "442df48b",
   "metadata": {},
   "outputs": [
    {
     "data": {
      "text/plain": [
       "['dogs',\n",
       " 'cats',\n",
       " 'fish',\n",
       " 'Birds',\n",
       " 'parrot',\n",
       " 'dolphin',\n",
       " 'Chameleon',\n",
       " 'Hamster',\n",
       " 'dogs']"
      ]
     },
     "execution_count": 70,
     "metadata": {},
     "output_type": "execute_result"
    }
   ],
   "source": [
    "pets"
   ]
  },
  {
   "cell_type": "code",
   "execution_count": 69,
   "id": "a22b1ecf",
   "metadata": {},
   "outputs": [
    {
     "data": {
      "text/plain": [
       "2"
      ]
     },
     "execution_count": 69,
     "metadata": {},
     "output_type": "execute_result"
    }
   ],
   "source": [
    "pets.count(\"dogs\")"
   ]
  },
  {
   "cell_type": "code",
   "execution_count": 71,
   "id": "3b5d14d5",
   "metadata": {},
   "outputs": [
    {
     "data": {
      "text/plain": [
       "2"
      ]
     },
     "execution_count": 71,
     "metadata": {},
     "output_type": "execute_result"
    }
   ],
   "source": [
    "pets.index(\"fish\")"
   ]
  },
  {
   "cell_type": "code",
   "execution_count": 72,
   "id": "a527fd42",
   "metadata": {},
   "outputs": [
    {
     "data": {
      "text/plain": [
       "0"
      ]
     },
     "execution_count": 72,
     "metadata": {},
     "output_type": "execute_result"
    }
   ],
   "source": [
    "pets.index(\"dogs\")"
   ]
  },
  {
   "cell_type": "markdown",
   "id": "b902b222",
   "metadata": {},
   "source": [
    "### Adding and removing elements from a list\n",
    "\n",
    "Python provides several methods for changing the contents of a list.  We will first look at `insert()` and `pop()`.\n"
   ]
  },
  {
   "cell_type": "code",
   "execution_count": 73,
   "id": "ca847e7b",
   "metadata": {},
   "outputs": [
    {
     "data": {
      "text/plain": [
       "['dogs',\n",
       " 'cats',\n",
       " 'fish',\n",
       " 'Birds',\n",
       " 'parrot',\n",
       " 'dolphin',\n",
       " 'Chameleon',\n",
       " 'Hamster',\n",
       " 'dogs']"
      ]
     },
     "execution_count": 73,
     "metadata": {},
     "output_type": "execute_result"
    }
   ],
   "source": [
    "pets"
   ]
  },
  {
   "cell_type": "code",
   "execution_count": 74,
   "id": "3ae023f4",
   "metadata": {},
   "outputs": [],
   "source": [
    "pets.insert(5,\"leopards\") # insert(index,\"element\")"
   ]
  },
  {
   "cell_type": "code",
   "execution_count": 75,
   "id": "102535df",
   "metadata": {},
   "outputs": [
    {
     "data": {
      "text/plain": [
       "['dogs',\n",
       " 'cats',\n",
       " 'fish',\n",
       " 'Birds',\n",
       " 'parrot',\n",
       " 'leopards',\n",
       " 'dolphin',\n",
       " 'Chameleon',\n",
       " 'Hamster',\n",
       " 'dogs']"
      ]
     },
     "execution_count": 75,
     "metadata": {},
     "output_type": "execute_result"
    }
   ],
   "source": [
    "pets"
   ]
  },
  {
   "cell_type": "markdown",
   "id": "bd2b8eb7",
   "metadata": {},
   "source": [
    "Wait, it is illegal to have leopards as pets. Better take it out from our list."
   ]
  },
  {
   "cell_type": "code",
   "execution_count": 76,
   "id": "f8989830",
   "metadata": {},
   "outputs": [
    {
     "data": {
      "text/plain": [
       "'leopards'"
      ]
     },
     "execution_count": 76,
     "metadata": {},
     "output_type": "execute_result"
    }
   ],
   "source": [
    "pets.pop(5) # removing element on the basis of index and printing that element  pets.remove(\"leopards\")"
   ]
  },
  {
   "cell_type": "code",
   "execution_count": 77,
   "id": "3923919e",
   "metadata": {},
   "outputs": [
    {
     "data": {
      "text/plain": [
       "['dogs',\n",
       " 'cats',\n",
       " 'fish',\n",
       " 'Birds',\n",
       " 'parrot',\n",
       " 'dolphin',\n",
       " 'Chameleon',\n",
       " 'Hamster',\n",
       " 'dogs']"
      ]
     },
     "execution_count": 77,
     "metadata": {},
     "output_type": "execute_result"
    }
   ],
   "source": [
    "pets"
   ]
  },
  {
   "cell_type": "markdown",
   "id": "fe23be6a",
   "metadata": {},
   "source": [
    "Notice how popping an element, returns its value.  A limitation of `pop()` is that we must know the index of the value we want to remove. If we do not have that knowledge, then we can use the function `remove()`:"
   ]
  },
  {
   "cell_type": "code",
   "execution_count": 78,
   "id": "f76a8676",
   "metadata": {},
   "outputs": [],
   "source": [
    "pets.insert(0,\"snail\")"
   ]
  },
  {
   "cell_type": "code",
   "execution_count": 79,
   "id": "7493a974",
   "metadata": {},
   "outputs": [
    {
     "data": {
      "text/plain": [
       "['snail',\n",
       " 'dogs',\n",
       " 'cats',\n",
       " 'fish',\n",
       " 'Birds',\n",
       " 'parrot',\n",
       " 'dolphin',\n",
       " 'Chameleon',\n",
       " 'Hamster',\n",
       " 'dogs']"
      ]
     },
     "execution_count": 79,
     "metadata": {},
     "output_type": "execute_result"
    }
   ],
   "source": [
    "pets"
   ]
  },
  {
   "cell_type": "code",
   "execution_count": 80,
   "id": "f1dd3160",
   "metadata": {},
   "outputs": [],
   "source": [
    "pets.remove(\"snail\")"
   ]
  },
  {
   "cell_type": "code",
   "execution_count": 81,
   "id": "9b90280d",
   "metadata": {},
   "outputs": [
    {
     "data": {
      "text/plain": [
       "['dogs',\n",
       " 'cats',\n",
       " 'fish',\n",
       " 'Birds',\n",
       " 'parrot',\n",
       " 'dolphin',\n",
       " 'Chameleon',\n",
       " 'Hamster',\n",
       " 'dogs']"
      ]
     },
     "execution_count": 81,
     "metadata": {},
     "output_type": "execute_result"
    }
   ],
   "source": [
    "pets"
   ]
  },
  {
   "cell_type": "code",
   "execution_count": 82,
   "id": "80103807",
   "metadata": {},
   "outputs": [],
   "source": [
    "del pets[0]"
   ]
  },
  {
   "cell_type": "code",
   "execution_count": 83,
   "id": "4f4c5e3f",
   "metadata": {},
   "outputs": [
    {
     "data": {
      "text/plain": [
       "['cats', 'fish', 'Birds', 'parrot', 'dolphin', 'Chameleon', 'Hamster', 'dogs']"
      ]
     },
     "execution_count": 83,
     "metadata": {},
     "output_type": "execute_result"
    }
   ],
   "source": [
    "pets"
   ]
  },
  {
   "cell_type": "markdown",
   "id": "2f6aabcd",
   "metadata": {},
   "source": [
    "Another way to remove elements from a list is with the command `del`. However, `del` is a sort of nuclear option. If we do not provide an an index though it will delete the **entire** variable from memory! **Be careful when you use `del`**."
   ]
  },
  {
   "cell_type": "code",
   "execution_count": 84,
   "id": "27269e48",
   "metadata": {},
   "outputs": [],
   "source": [
    "a=[\"abc\",\"xyz\"]"
   ]
  },
  {
   "cell_type": "code",
   "execution_count": 85,
   "id": "c983461b",
   "metadata": {},
   "outputs": [
    {
     "data": {
      "text/plain": [
       "['abc', 'xyz']"
      ]
     },
     "execution_count": 85,
     "metadata": {},
     "output_type": "execute_result"
    }
   ],
   "source": [
    "a"
   ]
  },
  {
   "cell_type": "code",
   "execution_count": 86,
   "id": "840f31a5",
   "metadata": {},
   "outputs": [],
   "source": [
    "del a # delete complete list"
   ]
  },
  {
   "cell_type": "code",
   "execution_count": 88,
   "id": "c303f34b",
   "metadata": {},
   "outputs": [
    {
     "data": {
      "text/plain": [
       "['cats', 'fish', 'Birds', 'parrot', 'dolphin', 'Chameleon', 'Hamster', 'dogs']"
      ]
     },
     "execution_count": 88,
     "metadata": {},
     "output_type": "execute_result"
    }
   ],
   "source": [
    "pets"
   ]
  },
  {
   "cell_type": "markdown",
   "id": "4d1bae5e",
   "metadata": {},
   "source": [
    "### Ordering lists\n",
    "\n",
    "Lists have other built-in methods too besides the maintenance functions of adding and deleting elements. For example, you can reverse a list:"
   ]
  },
  {
   "cell_type": "code",
   "execution_count": 89,
   "id": "c121eb8e",
   "metadata": {},
   "outputs": [],
   "source": [
    "pets.reverse()  # reversing the list # makes changes in same list"
   ]
  },
  {
   "cell_type": "code",
   "execution_count": 90,
   "id": "cc86be19",
   "metadata": {},
   "outputs": [
    {
     "data": {
      "text/plain": [
       "['dogs', 'Hamster', 'Chameleon', 'dolphin', 'parrot', 'Birds', 'fish', 'cats']"
      ]
     },
     "execution_count": 90,
     "metadata": {},
     "output_type": "execute_result"
    }
   ],
   "source": [
    "pets"
   ]
  },
  {
   "cell_type": "code",
   "execution_count": 91,
   "id": "0969c09c",
   "metadata": {},
   "outputs": [],
   "source": [
    "pets.sort()"
   ]
  },
  {
   "cell_type": "code",
   "execution_count": 92,
   "id": "182ba695",
   "metadata": {},
   "outputs": [
    {
     "data": {
      "text/plain": [
       "['Birds', 'Chameleon', 'Hamster', 'cats', 'dogs', 'dolphin', 'fish', 'parrot']"
      ]
     },
     "execution_count": 92,
     "metadata": {},
     "output_type": "execute_result"
    }
   ],
   "source": [
    "pets"
   ]
  },
  {
   "cell_type": "markdown",
   "id": "64284c1c",
   "metadata": {},
   "source": [
    "The elements in a list can also be sorted.  If the elements are numbers that the standard ordering of numbers is used. If the elements are string, then alphanumeric ordering is used."
   ]
  },
  {
   "cell_type": "code",
   "execution_count": 93,
   "id": "fd24f858",
   "metadata": {},
   "outputs": [],
   "source": [
    "a=[1,7,4,5,72,21]"
   ]
  },
  {
   "cell_type": "code",
   "execution_count": 94,
   "id": "a997e3a4",
   "metadata": {},
   "outputs": [],
   "source": [
    "a.sort()"
   ]
  },
  {
   "cell_type": "code",
   "execution_count": 95,
   "id": "f435f6fe",
   "metadata": {},
   "outputs": [
    {
     "data": {
      "text/plain": [
       "[1, 4, 5, 7, 21, 72]"
      ]
     },
     "execution_count": 95,
     "metadata": {},
     "output_type": "execute_result"
    }
   ],
   "source": [
    "a"
   ]
  },
  {
   "cell_type": "markdown",
   "id": "4fe12f2f",
   "metadata": {},
   "source": [
    "Notice that the methods `sort()` and `reverse()` act on the variable directly.  If you want to keep the original variable unchanged, you must use the built-in functions  `sorted()` and `reversed()`. "
   ]
  },
  {
   "cell_type": "code",
   "execution_count": 96,
   "id": "f56178dd",
   "metadata": {},
   "outputs": [
    {
     "data": {
      "text/plain": [
       "<list_reverseiterator at 0x2a29a5ed0d0>"
      ]
     },
     "execution_count": 96,
     "metadata": {},
     "output_type": "execute_result"
    }
   ],
   "source": [
    "reversed(a)"
   ]
  },
  {
   "cell_type": "markdown",
   "id": "edd23a4c",
   "metadata": {},
   "source": [
    "The output of the function `reversed()` is not a list. It is what Python calls an `iterator`, this is just a rule for generating values from some input. The advantage of `iterators` is that they require less memory and may be faster???\n",
    "\n",
    "However, if we want to have a human readable printout, we need to cast the iterator as a list. "
   ]
  },
  {
   "cell_type": "code",
   "execution_count": 97,
   "id": "800bf5eb",
   "metadata": {},
   "outputs": [
    {
     "data": {
      "text/plain": [
       "[72, 21, 7, 5, 4, 1]"
      ]
     },
     "execution_count": 97,
     "metadata": {},
     "output_type": "execute_result"
    }
   ],
   "source": [
    "list(reversed(a)) # not making changes in the same list"
   ]
  },
  {
   "cell_type": "code",
   "execution_count": 98,
   "id": "48be0f9a",
   "metadata": {},
   "outputs": [
    {
     "data": {
      "text/plain": [
       "[1, 4, 5, 7, 21, 72]"
      ]
     },
     "execution_count": 98,
     "metadata": {},
     "output_type": "execute_result"
    }
   ],
   "source": [
    "a"
   ]
  },
  {
   "cell_type": "markdown",
   "id": "df7ca167",
   "metadata": {},
   "source": [
    "## Hands On Exercise "
   ]
  },
  {
   "cell_type": "markdown",
   "id": "65aa1fe1",
   "metadata": {},
   "source": [
    "<mark> Create your shoping list & Print it </mark> "
   ]
  },
  {
   "cell_type": "code",
   "execution_count": 99,
   "id": "33bd9ac0",
   "metadata": {},
   "outputs": [],
   "source": [
    "shop_list=[\"milk\",\"chips\",\"coffee\"]"
   ]
  },
  {
   "cell_type": "code",
   "execution_count": 100,
   "id": "6d6259eb",
   "metadata": {},
   "outputs": [
    {
     "name": "stdout",
     "output_type": "stream",
     "text": [
      "['milk', 'chips', 'coffee']\n"
     ]
    }
   ],
   "source": [
    "print(shop_list)"
   ]
  },
  {
   "cell_type": "markdown",
   "id": "5fed819c",
   "metadata": {},
   "source": [
    "<mark> You are now the manager of the pet store! I'm going to need you to manage the inventory of pets that we have at the store.</mark> "
   ]
  },
  {
   "cell_type": "code",
   "execution_count": 101,
   "id": "23219853",
   "metadata": {},
   "outputs": [],
   "source": [
    "pet_store = ['beagle', 'parrot', 'iguana', 'gerbil', 'chameleon', 'fish']"
   ]
  },
  {
   "cell_type": "markdown",
   "id": "2f70f68c",
   "metadata": {},
   "source": [
    "<mark> We've sold out of `chameleon` and `iguana`, you need to remove them from the inventory. Use both `remove()` and `del` to do so. </mark> "
   ]
  },
  {
   "cell_type": "code",
   "execution_count": 103,
   "id": "79d6fd63",
   "metadata": {},
   "outputs": [],
   "source": [
    "pet_store.remove(\"chameleon\")"
   ]
  },
  {
   "cell_type": "code",
   "execution_count": 104,
   "id": "f25e03b6",
   "metadata": {},
   "outputs": [
    {
     "data": {
      "text/plain": [
       "['beagle', 'parrot', 'iguana', 'gerbil', 'fish']"
      ]
     },
     "execution_count": 104,
     "metadata": {},
     "output_type": "execute_result"
    }
   ],
   "source": [
    "pet_store"
   ]
  },
  {
   "cell_type": "code",
   "execution_count": 105,
   "id": "7ed90f4c",
   "metadata": {},
   "outputs": [],
   "source": [
    "del pet_store[2]"
   ]
  },
  {
   "cell_type": "code",
   "execution_count": 106,
   "id": "ff622554",
   "metadata": {},
   "outputs": [
    {
     "data": {
      "text/plain": [
       "['beagle', 'parrot', 'gerbil', 'fish']"
      ]
     },
     "execution_count": 106,
     "metadata": {},
     "output_type": "execute_result"
    }
   ],
   "source": [
    "pet_store"
   ]
  },
  {
   "cell_type": "markdown",
   "id": "4056ad96",
   "metadata": {},
   "source": [
    "<mark> We just got in a `terrier`, `chameleon`, `bulldog`, and another `terrier`. Please add all of those animals to the `pet_store`.</mark> "
   ]
  },
  {
   "cell_type": "code",
   "execution_count": 107,
   "id": "2e729bba",
   "metadata": {},
   "outputs": [],
   "source": [
    "pet_store.extend([\"terrier\",\"chameleon\",\"bulldog\",\"terrier\"])"
   ]
  },
  {
   "cell_type": "code",
   "execution_count": 108,
   "id": "ff1217a8",
   "metadata": {},
   "outputs": [
    {
     "data": {
      "text/plain": [
       "['beagle',\n",
       " 'parrot',\n",
       " 'gerbil',\n",
       " 'fish',\n",
       " 'terrier',\n",
       " 'chameleon',\n",
       " 'bulldog',\n",
       " 'terrier']"
      ]
     },
     "execution_count": 108,
     "metadata": {},
     "output_type": "execute_result"
    }
   ],
   "source": [
    "pet_store"
   ]
  },
  {
   "cell_type": "markdown",
   "id": "7643931f",
   "metadata": {},
   "source": [
    "<mark> Now, how many animal  do we currently have in the store? </mark> "
   ]
  },
  {
   "cell_type": "code",
   "execution_count": 109,
   "id": "719d5200",
   "metadata": {},
   "outputs": [
    {
     "data": {
      "text/plain": [
       "8"
      ]
     },
     "execution_count": 109,
     "metadata": {},
     "output_type": "execute_result"
    }
   ],
   "source": [
    "len(pet_store)"
   ]
  },
  {
   "cell_type": "markdown",
   "id": "c27f287d",
   "metadata": {},
   "source": [
    "<mark> How many `terrier` dogs do we have in the store? (Hint: the `list` data type has a built-in function called `count()`) </mark> "
   ]
  },
  {
   "cell_type": "code",
   "execution_count": 110,
   "id": "d0b82226",
   "metadata": {},
   "outputs": [
    {
     "data": {
      "text/plain": [
       "2"
      ]
     },
     "execution_count": 110,
     "metadata": {},
     "output_type": "execute_result"
    }
   ],
   "source": [
    "pet_store.count(\"terrier\")"
   ]
  },
  {
   "cell_type": "markdown",
   "id": "477a451d",
   "metadata": {},
   "source": [
    "<mark> As an owner, I actually have a very bad obsessive-compulsive disorder. Could you please reverse-alphabetically sort the pet types at the store? Thanks so much! Also going to need you to work this entire weekend. For free.</mark> "
   ]
  },
  {
   "cell_type": "code",
   "execution_count": 111,
   "id": "3836a90d",
   "metadata": {},
   "outputs": [
    {
     "data": {
      "text/plain": [
       "['beagle',\n",
       " 'parrot',\n",
       " 'gerbil',\n",
       " 'fish',\n",
       " 'terrier',\n",
       " 'chameleon',\n",
       " 'bulldog',\n",
       " 'terrier']"
      ]
     },
     "execution_count": 111,
     "metadata": {},
     "output_type": "execute_result"
    }
   ],
   "source": [
    "pet_store"
   ]
  },
  {
   "cell_type": "code",
   "execution_count": 112,
   "id": "3174443e",
   "metadata": {},
   "outputs": [],
   "source": [
    "pet_store.sort() #Alphabetically sorted"
   ]
  },
  {
   "cell_type": "code",
   "execution_count": 113,
   "id": "432d1590",
   "metadata": {},
   "outputs": [
    {
     "data": {
      "text/plain": [
       "['beagle',\n",
       " 'bulldog',\n",
       " 'chameleon',\n",
       " 'fish',\n",
       " 'gerbil',\n",
       " 'parrot',\n",
       " 'terrier',\n",
       " 'terrier']"
      ]
     },
     "execution_count": 113,
     "metadata": {},
     "output_type": "execute_result"
    }
   ],
   "source": [
    "pet_store"
   ]
  },
  {
   "cell_type": "code",
   "execution_count": 114,
   "id": "377d3a60",
   "metadata": {},
   "outputs": [],
   "source": [
    "pet_store.reverse()"
   ]
  },
  {
   "cell_type": "code",
   "execution_count": 115,
   "id": "541ab3d9",
   "metadata": {},
   "outputs": [
    {
     "data": {
      "text/plain": [
       "['terrier',\n",
       " 'terrier',\n",
       " 'parrot',\n",
       " 'gerbil',\n",
       " 'fish',\n",
       " 'chameleon',\n",
       " 'bulldog',\n",
       " 'beagle']"
      ]
     },
     "execution_count": 115,
     "metadata": {},
     "output_type": "execute_result"
    }
   ],
   "source": [
    "pet_store"
   ]
  },
  {
   "cell_type": "code",
   "execution_count": 116,
   "id": "39fc6de0",
   "metadata": {},
   "outputs": [
    {
     "data": {
      "text/plain": [
       "['terrier',\n",
       " 'terrier',\n",
       " 'parrot',\n",
       " 'gerbil',\n",
       " 'fish',\n",
       " 'chameleon',\n",
       " 'bulldog',\n",
       " 'beagle']"
      ]
     },
     "execution_count": 116,
     "metadata": {},
     "output_type": "execute_result"
    }
   ],
   "source": [
    "sorted(pet_store,reverse= True)"
   ]
  },
  {
   "cell_type": "code",
   "execution_count": null,
   "id": "6e773928",
   "metadata": {},
   "outputs": [],
   "source": []
  },
  {
   "cell_type": "markdown",
   "id": "94e29604",
   "metadata": {},
   "source": [
    "<mark> What is the index of `parrot`? </mark> "
   ]
  },
  {
   "cell_type": "code",
   "execution_count": 120,
   "id": "af37eb22",
   "metadata": {},
   "outputs": [
    {
     "data": {
      "text/plain": [
       "2"
      ]
     },
     "execution_count": 120,
     "metadata": {},
     "output_type": "execute_result"
    }
   ],
   "source": [
    "pet_store.index(\"parrot\")"
   ]
  },
  {
   "cell_type": "code",
   "execution_count": null,
   "id": "da42bb73",
   "metadata": {},
   "outputs": [],
   "source": []
  },
  {
   "cell_type": "markdown",
   "id": "552cc885",
   "metadata": {},
   "source": [
    "## Tuples\n",
    "\n",
    "On the surface, tuples appear similar to `list`:\n",
    "\n",
    "* Both Tuples and Lists contain a sequence of individual elements\n",
    "* Both Tuples and Lists are stored in the order that they were added\n",
    "* Both Tuples and Lists can store mixed data types\n",
    "* We access individual elements with the syntax `variable[index]`\n",
    "\n",
    "So what is the difference? \n",
    "\n",
    "The big difference is that tuples are an **immutable** data type (like strings). This means that none of the functions that are built-in to modify variables can be applied to tuples.\n",
    "\n",
    "In order to indicate this **crucial** difference between lists and tuples, Python uses a different syntax to create a tuple.\n",
    "The syntax for creating a `list` uses `[]`. The syntax to create a `tuple` uses `()`. \n"
   ]
  },
  {
   "cell_type": "code",
   "execution_count": 121,
   "id": "48df0c41",
   "metadata": {},
   "outputs": [],
   "source": [
    "# Penny is our Golden Retriver\n",
    "penny=(60,75,\"yellow\")   #len,weight & Color"
   ]
  },
  {
   "cell_type": "markdown",
   "id": "17f93deb",
   "metadata": {},
   "source": [
    "Notice that since it isn't necessarily clear what each of the individual elements stood for in the tuple, I added a comment listing the meaning of each field. As we discussed earlier, comments are signaled in Python by the symbol `#` Whatever you type in a line after the `#` will be ignored by the Python interpreter.\n",
    "\n",
    "Because tuples are immutable element assignment does not work."
   ]
  },
  {
   "cell_type": "code",
   "execution_count": 122,
   "id": "3f4185c8",
   "metadata": {},
   "outputs": [
    {
     "data": {
      "text/plain": [
       "tuple"
      ]
     },
     "execution_count": 122,
     "metadata": {},
     "output_type": "execute_result"
    }
   ],
   "source": [
    "type(penny)"
   ]
  },
  {
   "cell_type": "code",
   "execution_count": 123,
   "id": "5d62e882",
   "metadata": {},
   "outputs": [
    {
     "data": {
      "text/plain": [
       "(60, 75, 'yellow')"
      ]
     },
     "execution_count": 123,
     "metadata": {},
     "output_type": "execute_result"
    }
   ],
   "source": [
    "penny"
   ]
  },
  {
   "cell_type": "code",
   "execution_count": 124,
   "id": "738d5d50",
   "metadata": {},
   "outputs": [
    {
     "ename": "TypeError",
     "evalue": "'tuple' object doesn't support item deletion",
     "output_type": "error",
     "traceback": [
      "\u001b[1;31m---------------------------------------------------------------------------\u001b[0m",
      "\u001b[1;31mTypeError\u001b[0m                                 Traceback (most recent call last)",
      "\u001b[1;32m~\\AppData\\Local\\Temp/ipykernel_16664/1774123338.py\u001b[0m in \u001b[0;36m<module>\u001b[1;34m\u001b[0m\n\u001b[1;32m----> 1\u001b[1;33m \u001b[1;32mdel\u001b[0m \u001b[0mpenny\u001b[0m\u001b[1;33m[\u001b[0m\u001b[1;36m2\u001b[0m\u001b[1;33m]\u001b[0m\u001b[1;33m\u001b[0m\u001b[1;33m\u001b[0m\u001b[0m\n\u001b[0m",
      "\u001b[1;31mTypeError\u001b[0m: 'tuple' object doesn't support item deletion"
     ]
    }
   ],
   "source": [
    "del penny[2]"
   ]
  },
  {
   "cell_type": "markdown",
   "id": "17101d4b",
   "metadata": {},
   "source": [
    "and neither does element removal.  However, We can still perform the additive operators with tuples though"
   ]
  },
  {
   "cell_type": "code",
   "execution_count": 125,
   "id": "4e5268c8",
   "metadata": {},
   "outputs": [
    {
     "data": {
      "text/plain": [
       "(60, 75, 'yellow', 'Brown', 'Stinky')"
      ]
     },
     "execution_count": 125,
     "metadata": {},
     "output_type": "execute_result"
    }
   ],
   "source": [
    "penny + (\"Brown\",\"Stinky\")"
   ]
  },
  {
   "cell_type": "code",
   "execution_count": 126,
   "id": "c7172328",
   "metadata": {},
   "outputs": [
    {
     "data": {
      "text/plain": [
       "(60, 75, 'yellow')"
      ]
     },
     "execution_count": 126,
     "metadata": {},
     "output_type": "execute_result"
    }
   ],
   "source": [
    "penny"
   ]
  },
  {
   "cell_type": "code",
   "execution_count": 127,
   "id": "967ca9d3",
   "metadata": {},
   "outputs": [
    {
     "ename": "AttributeError",
     "evalue": "'tuple' object has no attribute 'append'",
     "output_type": "error",
     "traceback": [
      "\u001b[1;31m---------------------------------------------------------------------------\u001b[0m",
      "\u001b[1;31mAttributeError\u001b[0m                            Traceback (most recent call last)",
      "\u001b[1;32m~\\AppData\\Local\\Temp/ipykernel_16664/67662731.py\u001b[0m in \u001b[0;36m<module>\u001b[1;34m\u001b[0m\n\u001b[1;32m----> 1\u001b[1;33m \u001b[0mpenny\u001b[0m\u001b[1;33m.\u001b[0m\u001b[0mappend\u001b[0m\u001b[1;33m(\u001b[0m\u001b[1;34m\"Brown\"\u001b[0m\u001b[1;33m)\u001b[0m\u001b[1;33m\u001b[0m\u001b[1;33m\u001b[0m\u001b[0m\n\u001b[0m",
      "\u001b[1;31mAttributeError\u001b[0m: 'tuple' object has no attribute 'append'"
     ]
    }
   ],
   "source": [
    "penny.append(\"Brown\")"
   ]
  },
  {
   "cell_type": "markdown",
   "id": "9fc21909",
   "metadata": {},
   "source": [
    "The reason is that when we add something to a tuple we are not changing the tuple, we are creating a new tuple. Notice that if we do not copy the new tuple into a new variable, then it is lost ot us.\n",
    "\n",
    "Another subtlety with tuples is that they require a non-obvious syntax when they have a single element.  Specifically, a tuple with a single element must be written as using the syntax `(value, )`. Without the comma, the Python interpreter would decide that we are using the `()` in the context of a mathematical operation."
   ]
  },
  {
   "cell_type": "code",
   "execution_count": 128,
   "id": "84a3db92",
   "metadata": {},
   "outputs": [],
   "source": [
    "penny2=penny + (\"Brown\",\"Stinky\") # we have created new tuppled , Tupple can't be modfied "
   ]
  },
  {
   "cell_type": "code",
   "execution_count": 129,
   "id": "2b565954",
   "metadata": {},
   "outputs": [
    {
     "data": {
      "text/plain": [
       "(60, 75, 'yellow', 'Brown', 'Stinky')"
      ]
     },
     "execution_count": 129,
     "metadata": {},
     "output_type": "execute_result"
    }
   ],
   "source": [
    "penny2"
   ]
  },
  {
   "cell_type": "code",
   "execution_count": 131,
   "id": "9419d1e2",
   "metadata": {},
   "outputs": [
    {
     "data": {
      "text/plain": [
       "75"
      ]
     },
     "execution_count": 131,
     "metadata": {},
     "output_type": "execute_result"
    }
   ],
   "source": [
    "penny2[1]"
   ]
  },
  {
   "cell_type": "markdown",
   "id": "647f91d7",
   "metadata": {},
   "source": [
    "### So wait, why are there both lists and tuples? \n",
    "\n",
    "I know, right now it's pretty hard to see why you would use one data type over the other. \n",
    "\n",
    "Remember that Python was developed with the ideal of being readable and understandable. That means that when you are writing code, you want to make choices that make it easy for others to understand what is going on. For example, if you have a some variable that contains values that are never going to change, then why would you use a mutable data type such as a list to store it?  \n",
    "\n",
    "Think of the days of the week or the months of the year: Does it make more sense to define\n",
    "\n",
    "`days_of_the_week = (\"Sunday\", \"Monday\", \"Tuesday\", \"Wednesday\", \"Thursday\", \"Friday\", \"Saturday\")`\n",
    "\n",
    "or \n",
    "\n",
    "`days_of_the_week = [\"Sunday\", \"Monday\", \"Tuesday\", \"Wednesday\", \"Thursday\", \"Friday\", \"Saturday\"]`?\n",
    "\n",
    "By using a tuple to store some data, you are signaling to a reader of your code, that the values you stored are not going to change during the execution of your code."
   ]
  },
  {
   "cell_type": "markdown",
   "id": "38095557",
   "metadata": {},
   "source": [
    "## Sets\n",
    "\n",
    "A Python set is an unordered collection that prevents the repetition of values from occurring.  To create a `set` we use the syntax `{}`. \n",
    "\n",
    "Why do we need sets? Imagine, for example, that you want to store the names of your friends; you will want to use a list since you might have several friends named Mary.  However, if you are storing the city in which your friends live, you do not want the same city repeated several times. If you want to find out cities to visit where you have friends you only need the city name in there once.\n",
    "\n",
    "Let us see this in play with our pet store.  We want to keep track of what pet species we have."
   ]
  },
  {
   "cell_type": "code",
   "execution_count": 132,
   "id": "93500593",
   "metadata": {},
   "outputs": [],
   "source": [
    "pet_species={\"bulldog\",\"hamster\",\"parrot\",\"hamster\"}"
   ]
  },
  {
   "cell_type": "code",
   "execution_count": 133,
   "id": "daf56fad",
   "metadata": {},
   "outputs": [
    {
     "data": {
      "text/plain": [
       "{'bulldog', 'hamster', 'parrot'}"
      ]
     },
     "execution_count": 133,
     "metadata": {},
     "output_type": "execute_result"
    }
   ],
   "source": [
    "pet_species # Set only keeps unique elements & discard duplicates"
   ]
  },
  {
   "cell_type": "markdown",
   "id": "4408108e",
   "metadata": {},
   "source": [
    "Sets are also **mutable**, like a `list`. However, they don't use the same built-in functions. To add an item, you use the built-in function `add()`. T remove an element, you use the built-in function `discard()`.  Notice, however, that **sets cannot be added or multiplied**."
   ]
  },
  {
   "cell_type": "code",
   "execution_count": 134,
   "id": "2270fddc",
   "metadata": {},
   "outputs": [],
   "source": [
    "pet_species.add(\"Crocodile\")"
   ]
  },
  {
   "cell_type": "code",
   "execution_count": 135,
   "id": "748e3794",
   "metadata": {},
   "outputs": [
    {
     "data": {
      "text/plain": [
       "{'Crocodile', 'bulldog', 'hamster', 'parrot'}"
      ]
     },
     "execution_count": 135,
     "metadata": {},
     "output_type": "execute_result"
    }
   ],
   "source": [
    "pet_species"
   ]
  },
  {
   "cell_type": "code",
   "execution_count": 136,
   "id": "645e2ed5",
   "metadata": {},
   "outputs": [],
   "source": [
    "pet_species.add(\"Crocodile\")"
   ]
  },
  {
   "cell_type": "code",
   "execution_count": 137,
   "id": "1078c762",
   "metadata": {},
   "outputs": [
    {
     "data": {
      "text/plain": [
       "{'Crocodile', 'bulldog', 'hamster', 'parrot'}"
      ]
     },
     "execution_count": 137,
     "metadata": {},
     "output_type": "execute_result"
    }
   ],
   "source": [
    "pet_species"
   ]
  },
  {
   "cell_type": "code",
   "execution_count": 138,
   "id": "5fc44645",
   "metadata": {},
   "outputs": [],
   "source": [
    "pet_species.discard(\"bulldog\")"
   ]
  },
  {
   "cell_type": "code",
   "execution_count": 139,
   "id": "7ee61b63",
   "metadata": {},
   "outputs": [
    {
     "data": {
      "text/plain": [
       "{'Crocodile', 'hamster', 'parrot'}"
      ]
     },
     "execution_count": 139,
     "metadata": {},
     "output_type": "execute_result"
    }
   ],
   "source": [
    "pet_species"
   ]
  },
  {
   "cell_type": "code",
   "execution_count": 141,
   "id": "384244cc",
   "metadata": {},
   "outputs": [],
   "source": [
    "abc=[1,5,7,3,5,7]"
   ]
  },
  {
   "cell_type": "markdown",
   "id": "737b7c09",
   "metadata": {},
   "source": [
    "Remove duplicates from the list by using single line of code & I want output in the list format"
   ]
  },
  {
   "cell_type": "code",
   "execution_count": 143,
   "id": "f9e204d4",
   "metadata": {},
   "outputs": [
    {
     "data": {
      "text/plain": [
       "[1, 3, 5, 7]"
      ]
     },
     "execution_count": 143,
     "metadata": {},
     "output_type": "execute_result"
    }
   ],
   "source": [
    "list(set(abc))"
   ]
  },
  {
   "cell_type": "markdown",
   "id": "686ae443",
   "metadata": {},
   "source": [
    "### Other set operations\n",
    "\n",
    "Another class of operations that can be performed on sets are `intersection`, `union`, and `difference`. These operations are identical to their homonymous functions in the mathematics of sets."
   ]
  },
  {
   "cell_type": "code",
   "execution_count": 144,
   "id": "98484c8a",
   "metadata": {},
   "outputs": [
    {
     "name": "stdout",
     "output_type": "stream",
     "text": [
      "{'fish', 'parrot'}\n",
      "{'parrot', 'fish', 'terrier', 'hamster', 'cat', 'bulldog'}\n",
      "{'hamster', 'bulldog'}\n",
      "{'cat', 'terrier'}\n"
     ]
    }
   ],
   "source": [
    "store_one = {'bulldog', 'parrot', 'hamster', 'fish'}\n",
    "store_two = {'fish', 'parrot', 'terrier', 'cat'}\n",
    "\n",
    "print( store_one.intersection(store_two) ) # Common pets in store1 & Store 2\n",
    "\n",
    "print( store_one.union(store_two) ) # All the elements of store 1 & Store 2\n",
    "\n",
    "print( store_one.difference(store_two) )  # A - B = A - (A intersection B) # pets which are only present in store 1 but not in store 2\n",
    "\n",
    "print( store_two.difference(store_one) ) # pets which are only present in store 2 but not in store 1"
   ]
  },
  {
   "cell_type": "markdown",
   "id": "77d6719e",
   "metadata": {},
   "source": [
    "Note that while `intersection` and `union` are symmetrical -- for example, `A.union(B) = B.union(A)` -- the same is not true for `difference`."
   ]
  },
  {
   "cell_type": "markdown",
   "id": "dc5cbe59",
   "metadata": {},
   "source": [
    "###  Changing types across sets, lists, and tuples\n",
    "\n",
    "Since `sets`, `lists`, and `tuples` are all collections of elements, Python allows us to easily convert variables from one type to another as needed. You just need to cast the variable."
   ]
  },
  {
   "cell_type": "code",
   "execution_count": 145,
   "id": "aa0b178c",
   "metadata": {},
   "outputs": [
    {
     "name": "stdout",
     "output_type": "stream",
     "text": [
      "['hamster', 'bulldog', 'parrot', 'fish']\n",
      "<class 'list'>\n"
     ]
    }
   ],
   "source": [
    "list_store_one = list( store_one )\n",
    "print( list_store_one )\n",
    "print( type(list_store_one) )"
   ]
  },
  {
   "cell_type": "code",
   "execution_count": 146,
   "id": "1cc6ef83",
   "metadata": {},
   "outputs": [
    {
     "name": "stdout",
     "output_type": "stream",
     "text": [
      "('hamster', 'bulldog', 'parrot', 'fish')\n",
      "<class 'tuple'>\n"
     ]
    }
   ],
   "source": [
    "tuple_store_one = tuple( store_one )\n",
    "print( tuple_store_one )\n",
    "print( type(tuple_store_one) )"
   ]
  },
  {
   "cell_type": "code",
   "execution_count": 147,
   "id": "20ad9c78",
   "metadata": {},
   "outputs": [
    {
     "name": "stdout",
     "output_type": "stream",
     "text": [
      "{'hamster', 'bulldog', 'parrot', 'fish'}\n",
      "<class 'set'>\n"
     ]
    }
   ],
   "source": [
    "reset_store_one = set(tuple_store_one)\n",
    "print( reset_store_one )\n",
    "print( type(reset_store_one) )"
   ]
  },
  {
   "cell_type": "code",
   "execution_count": null,
   "id": "27d60a2f",
   "metadata": {},
   "outputs": [],
   "source": []
  },
  {
   "cell_type": "markdown",
   "id": "c7e0ba1c",
   "metadata": {},
   "source": [
    "# Nesting\n",
    "\n",
    "So far, most of the elements that we have added to our collections have been `string`, `float`, or `integer` data types. However, the elements of a collections can be collections themselves. Indeed, we can include any data type inside a `tuple` or a `list` or even a `set`.  This process is called **nesting** and it is a bit like Russian dolls.\n",
    "\n",
    "\n",
    "\n",
    "Let's see nesting at play.  Going back to our pet store, assume that our costumers are picky and care about the breed of the dog they want to buy."
   ]
  },
  {
   "cell_type": "code",
   "execution_count": 149,
   "id": "5f0df8b7",
   "metadata": {},
   "outputs": [
    {
     "name": "stdout",
     "output_type": "stream",
     "text": [
      "['cats', 'fish', 'dogs']\n"
     ]
    },
    {
     "data": {
      "text/plain": [
       "['cats', 'fish', ['bulldog', 'terrier', 'greyhound']]"
      ]
     },
     "execution_count": 149,
     "metadata": {},
     "output_type": "execute_result"
    }
   ],
   "source": [
    "pets = [ 'cats', 'fish','dogs'] # list of pets\n",
    "print( pets )\n",
    "pets.pop(2)   # Get rid of dogs\n",
    "dog_breeds = ['bulldog', 'terrier', 'greyhound']\n",
    "pets.append(dog_breeds)  # append list of dog breeds available\n",
    "pets"
   ]
  },
  {
   "cell_type": "code",
   "execution_count": 150,
   "id": "cf785f00",
   "metadata": {},
   "outputs": [
    {
     "data": {
      "text/plain": [
       "['bulldog', 'terrier', 'greyhound']"
      ]
     },
     "execution_count": 150,
     "metadata": {},
     "output_type": "execute_result"
    }
   ],
   "source": [
    "pets[-1]"
   ]
  },
  {
   "cell_type": "markdown",
   "id": "37936c7f",
   "metadata": {},
   "source": [
    "How can we now access a specific dog breed? \n",
    "\n",
    "The dog breeds are in a list, so we are able to access any element in that list using an index. We just need to know the name of the list. The name is, of course, `pets[-1]`.\n"
   ]
  },
  {
   "cell_type": "code",
   "execution_count": 151,
   "id": "0ce0208f",
   "metadata": {},
   "outputs": [
    {
     "data": {
      "text/plain": [
       "'bulldog'"
      ]
     },
     "execution_count": 151,
     "metadata": {},
     "output_type": "execute_result"
    }
   ],
   "source": [
    "pets[-1][0]"
   ]
  },
  {
   "cell_type": "markdown",
   "id": "fd0b6252",
   "metadata": {},
   "source": [
    "The parenteses in the command above are unnecessary.  We can just write `pets[-1][0]`. Thus, to access elements in nested lists, we just need to keep adding `[]` in order to navigated deeper and deeper into the nested collection of lists. When Python navigates through your list variable it will always read the indices from left to right, with the leftmost `[]` being the topmost `list`.\n",
    "\n",
    "\n",
    "Also, we can change the values inside our nested lists just like at our topmost `list` and use all of our normal `list` functions that we used before."
   ]
  },
  {
   "cell_type": "code",
   "execution_count": 152,
   "id": "68983400",
   "metadata": {},
   "outputs": [
    {
     "data": {
      "text/plain": [
       "['cats', 'fish', ['golden retriever', 'terrier', 'greyhound']]"
      ]
     },
     "execution_count": 152,
     "metadata": {},
     "output_type": "execute_result"
    }
   ],
   "source": [
    "pets[-1][0] = 'golden retriever'\n",
    "pets"
   ]
  },
  {
   "cell_type": "code",
   "execution_count": 153,
   "id": "80ee03bd",
   "metadata": {},
   "outputs": [
    {
     "data": {
      "text/plain": [
       "['cats', 'fish', ['golden retriever', 'terrier', 'greyhound', 'pug']]"
      ]
     },
     "execution_count": 153,
     "metadata": {},
     "output_type": "execute_result"
    }
   ],
   "source": [
    "pets[-1].append('pug')\n",
    "pets"
   ]
  },
  {
   "cell_type": "markdown",
   "id": "1ef133c8",
   "metadata": {},
   "source": [
    "### The subtleties of copying nested structures\n",
    "\n",
    "Imagine that we open a second pet store, and that initially we will be having the same inventory as in the first store.  As all programmers worth their name, we want to minimize the amount of work we do. Thus, we would never add the names to the list one by one.  We just want to copy the list with the inventory from the first store."
   ]
  },
  {
   "cell_type": "code",
   "execution_count": 156,
   "id": "61edaf8d",
   "metadata": {},
   "outputs": [
    {
     "name": "stdout",
     "output_type": "stream",
     "text": [
      "['cats', 'fish', ['golden retriever', 'terrier', 'greyhound', 'pug']]\n",
      "['cats', 'fish', ['golden retriever', 'terrier', 'greyhound', 'pug']]\n"
     ]
    }
   ],
   "source": [
    "store_one=pets\n",
    "store_two=store_one ####\n",
    "print(store_one)\n",
    "print(store_two)"
   ]
  },
  {
   "cell_type": "markdown",
   "id": "8649ac3f",
   "metadata": {},
   "source": [
    "Business is going well at store one. We sold the `pug`, and acquired a `cat` and a `gerbil`:"
   ]
  },
  {
   "cell_type": "code",
   "execution_count": 157,
   "id": "2c5df017",
   "metadata": {},
   "outputs": [],
   "source": [
    "store_one[-1].remove(\"pug\")"
   ]
  },
  {
   "cell_type": "code",
   "execution_count": 158,
   "id": "9b6f6add",
   "metadata": {},
   "outputs": [
    {
     "data": {
      "text/plain": [
       "['cats', 'fish', ['golden retriever', 'terrier', 'greyhound']]"
      ]
     },
     "execution_count": 158,
     "metadata": {},
     "output_type": "execute_result"
    }
   ],
   "source": [
    "store_one"
   ]
  },
  {
   "cell_type": "code",
   "execution_count": 159,
   "id": "4f685fd8",
   "metadata": {},
   "outputs": [],
   "source": [
    "store_one.extend([\"cat\",\"gerbil\"])"
   ]
  },
  {
   "cell_type": "code",
   "execution_count": 160,
   "id": "7373e3be",
   "metadata": {},
   "outputs": [
    {
     "data": {
      "text/plain": [
       "['cats', 'fish', ['golden retriever', 'terrier', 'greyhound'], 'cat', 'gerbil']"
      ]
     },
     "execution_count": 160,
     "metadata": {},
     "output_type": "execute_result"
    }
   ],
   "source": [
    "store_one"
   ]
  },
  {
   "cell_type": "code",
   "execution_count": 161,
   "id": "7f839d52",
   "metadata": {},
   "outputs": [
    {
     "data": {
      "text/plain": [
       "['cats', 'fish', ['golden retriever', 'terrier', 'greyhound'], 'cat', 'gerbil']"
      ]
     },
     "execution_count": 161,
     "metadata": {},
     "output_type": "execute_result"
    }
   ],
   "source": [
    "store_two # i have done all the operation on store 1 but it also affected store 2"
   ]
  },
  {
   "cell_type": "markdown",
   "id": "7497d0e7",
   "metadata": {},
   "source": [
    "**Both inventories were changed!** \n",
    "\n",
    "The reason is that the statement\n",
    "\n",
    "`store_two = store_one`\n",
    "\n",
    "did not copy the values in the collection labelled by `store_one` to a new place in memory labelled by `store_two`. It just made the name `store_two` point to the same position in memory as `store_one`. \n",
    "\n",
    "If you actually want to copy the values in the collection labelled by `store_one` to a new place in memory, then you have to use one of the built-in functions `copy()` and `deepcopy()`. \n",
    "\n",
    "Notice that there are important differences between the two functions. `copy()` does not make copies of nested stuctures. That is, if you a using `copy()` on a list that contains other lists, the other lists are not being copied to a different location in memory.\n",
    "\n",
    "**Every distribution of Python includes these two functions, but unlike other built-in functions, we have to import them before we can use them!**"
   ]
  },
  {
   "cell_type": "code",
   "execution_count": 167,
   "id": "d596625c",
   "metadata": {},
   "outputs": [],
   "source": [
    "from copy import copy\n",
    "store_one=['beagle', 'terrier', 'bulldog', 'fish']\n",
    "store_two=copy(store_one)\n"
   ]
  },
  {
   "cell_type": "markdown",
   "id": "3ce15703",
   "metadata": {},
   "source": [
    "For now, do not worry about the meanig of the `from ... import ...` command. Just be aware of the subtleties when copying collections, especially nested collections since you may not be doing what you intended to do. Accidentally setting one variable name equal to another without noticint it is a way for logical errors to creep into your programs. **Always be careful! Always test your code!**"
   ]
  },
  {
   "cell_type": "code",
   "execution_count": 168,
   "id": "0ae1122d",
   "metadata": {},
   "outputs": [],
   "source": [
    "store_one.remove('terrier')"
   ]
  },
  {
   "cell_type": "code",
   "execution_count": 169,
   "id": "31a5ee79",
   "metadata": {},
   "outputs": [
    {
     "data": {
      "text/plain": [
       "['beagle', 'bulldog', 'fish']"
      ]
     },
     "execution_count": 169,
     "metadata": {},
     "output_type": "execute_result"
    }
   ],
   "source": [
    "store_one"
   ]
  },
  {
   "cell_type": "code",
   "execution_count": 170,
   "id": "2a88d1e4",
   "metadata": {},
   "outputs": [
    {
     "data": {
      "text/plain": [
       "['beagle', 'terrier', 'bulldog', 'fish']"
      ]
     },
     "execution_count": 170,
     "metadata": {},
     "output_type": "execute_result"
    }
   ],
   "source": [
    "store_two"
   ]
  },
  {
   "cell_type": "code",
   "execution_count": 171,
   "id": "cc2ff2da",
   "metadata": {},
   "outputs": [
    {
     "data": {
      "text/plain": [
       "True"
      ]
     },
     "execution_count": 171,
     "metadata": {},
     "output_type": "execute_result"
    }
   ],
   "source": [
    "\"dog\" == 'dog'"
   ]
  },
  {
   "cell_type": "code",
   "execution_count": null,
   "id": "ad7942b4",
   "metadata": {},
   "outputs": [],
   "source": []
  }
 ],
 "metadata": {
  "kernelspec": {
   "display_name": "Python 3 (ipykernel)",
   "language": "python",
   "name": "python3"
  },
  "language_info": {
   "codemirror_mode": {
    "name": "ipython",
    "version": 3
   },
   "file_extension": ".py",
   "mimetype": "text/x-python",
   "name": "python",
   "nbconvert_exporter": "python",
   "pygments_lexer": "ipython3",
   "version": "3.9.7"
  }
 },
 "nbformat": 4,
 "nbformat_minor": 5
}
