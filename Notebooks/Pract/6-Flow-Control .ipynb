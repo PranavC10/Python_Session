{
 "cells": [
  {
   "cell_type": "markdown",
   "metadata": {
    "colab_type": "text",
    "id": "-Yzzd_56WGzR"
   },
   "source": [
    "# Synopsis\n",
    "\n",
    "In this unit we will learn how to perform successive operations (\"looping\") without explicitly coding the commands. This is largely understood to be controlling the 'flow' of a program.  \n",
    "\n",
    "We will control the flow using:\n",
    "\n",
    "1. Logical statements to check for conditions (performing operations only `if` a condition is met)\n",
    "\n",
    "2. Continuing execution until a condition is met\n",
    "\n",
    "3. Iterating through a sequence of numbers using the `range()` function\n",
    "\n",
    "In order to do this we will learn the commands: `if`, `while`, and `for`\n",
    "\n"
   ]
  },
  {
   "cell_type": "markdown",
   "metadata": {
    "colab_type": "text",
    "id": "j0izBoJ5WGzS"
   },
   "source": [
    "# What if?\n",
    "\n",
    "There are times that we only want to execute a set of commands under a certain condition, such as in this classic programming joke of one spouse sending another out to the grocery store:\n",
    "\n",
    "** \"Buy a gallon of milk at the store and if there are organic eggs, buy a dozen\" **\n",
    "\n",
    "We have one action, \"Buy a gallon of milk\", that we will do no matter what (our assumption is that there is always milk at the grocery store). \n",
    "\n",
    "However, our other action, \"buy a dozen eggs\", is conditional on the right type of egg being available. If there are not organic eggs available then you shouldn't buy any!\n",
    "\n",
    "When we program all we are really doing is giving a set of instructions to the computer to execute, which means that we should be able to give a set of instructions about what to purchase at the grocery store.\n",
    "\n",
    "In order to program our word problem we need to learn a new command - `if`"
   ]
  },
  {
   "cell_type": "markdown",
   "metadata": {
    "colab_type": "text",
    "id": "qcfjoCDDWGzT"
   },
   "source": [
    "## Making more complicated programs\n",
    "\n",
    "When we start to make more complicated programs it helps to sketch out a plan of the overall program flow (and when I say sketch, I really do mean on paper!). We are going to program the classic joke\n",
    "\n",
    "** \"Buy a gallon of milk at the store and if there are organic eggs, buy a dozen\" **\n",
    "\n",
    "To do this, it helps to break our program apart into chunks. If it was me, this is the outline that I would come up with for our program (I like to start off super simple):\n",
    "\n",
    "----\n",
    "`# Define variables needed`\n",
    "\n",
    "`# Purchasing decisions`\n",
    "\n",
    "`# Check what was purchased`\n",
    "\n",
    "----\n",
    "\n",
    "I told you I liked to start simple! The first step that we have to do is to define all of the variables that we will need. While we can create variables whenever we need them in Python, it makes programming easier if we both (i) plan ahead and (ii) decide our variable names first."
   ]
  },
  {
   "cell_type": "code",
   "execution_count": 12,
   "metadata": {},
   "outputs": [
    {
     "name": "stdout",
     "output_type": "stream",
     "text": [
      "Do not buy eggs\n",
      "I got the milk 1Galoons\n"
     ]
    }
   ],
   "source": [
    "store_has_organic=False\n",
    "milk=0\n",
    "if store_has_organic== True:\n",
    "    print(\"Buy Eggs\")\n",
    "    milk=milk+1\n",
    "    print(\"I got the milk \"+ str(milk) + \"Galoons\")\n",
    "else:\n",
    "    print(\"Do not buy eggs\")\n",
    "    milk=milk+1\n",
    "    print(\"I got the milk \"+ str(milk) + \"Galoons\")"
   ]
  },
  {
   "cell_type": "markdown",
   "metadata": {
    "colab_type": "text",
    "id": "HbDhzswuWGzU"
   },
   "source": [
    "#### Q1. So for this problem I can see three variables that will matter, what do you think they are?"
   ]
  },
  {
   "cell_type": "code",
   "execution_count": 2,
   "metadata": {
    "colab": {},
    "colab_type": "code",
    "id": "qvqn0R54WGzV"
   },
   "outputs": [
    {
     "name": "stdout",
     "output_type": "stream",
     "text": [
      "Num is Greater than 100\n"
     ]
    }
   ],
   "source": [
    "# Check num if its above 100 or below 100 \n",
    "num=101\n",
    "\n",
    "if num>100:\n",
    "    print(\"Num is Greater than 100\")\n",
    "\n",
    "else:\n",
    "    print(\"Num is Smaller or equal to 100\")\n",
    "\n",
    "\n",
    "\n"
   ]
  },
  {
   "cell_type": "code",
   "execution_count": 4,
   "metadata": {},
   "outputs": [
    {
     "name": "stdout",
     "output_type": "stream",
     "text": [
      "Num is Even\n"
     ]
    }
   ],
   "source": [
    "# write a program to check even or odd\n",
    "num=6\n",
    "\n",
    "if num % 2 ==0 :\n",
    "    print(\"Num is Even\")\n",
    "    \n",
    "else:\n",
    "    print(\"Num is odd\")\n"
   ]
  },
  {
   "cell_type": "markdown",
   "metadata": {
    "colab_type": "text",
    "id": "p7J3okNvWGzY"
   },
   "source": [
    "## Moving onto the logic\n",
    "\n",
    "Now that we've decided on what we will call our variables we can start to work out the rest of the code. \n",
    "\n",
    "The last part is pretty easy, we just need to print out the number of milk jugs and eggs purchased. It's the middle part that is a bit harder, we actually have to put in some logic to make this work properly. Based on my reading of the problem this is how I think the logic should go.\n",
    "\n",
    "----\n",
    "\n",
    "`# Define variables needed\n",
    "\n",
    "milk = 0\n",
    "\n",
    "eggs = 0\n",
    "\n",
    "store_has_eggs = False\n",
    "\n",
    "#Purchasing decisions`\n",
    "\n",
    "-> Purchase milk \n",
    "\n",
    "-> Check if there are eggs\n",
    "\n",
    "  -> Buy eggs if there are eggs\n",
    " \n",
    "`# Check what was purchased\n",
    "print(\"I purchased \", milk, \" gallons of milk\")\n",
    "print(\"I purchased \", eggs, \" eggs\")`\n",
    "\n",
    " \n",
    "----\n",
    "\n",
    "So that's the basic idea for the program. We already know how to purchase milk, that's just adding `1` to the value of milk. But the eggs are a bit more complicated, we have to check to see if there are eggs and then add the 12 eggs if the store has them. \n",
    "\n",
    "To do that we use the `if` statement - `if` does a check to see if a condition is met and if it is, then it executes all code that is **indented** below it. If the condition is not met, then it doesn't execute any of the code. \n",
    "\n",
    "So our purchasing logic would look like this:\n",
    "\n",
    "`# Purchasing decisions\n",
    "milk += 1\n",
    "if store_has_eggs == True:\n",
    "    eggs += 12`\n",
    "    \n",
    "It's extremely important to realize that **indentation** matters. Whitespace is how Python knows what parts of code go together.\n",
    "\n",
    "So we can now put this all together relatively easily."
   ]
  },
  {
   "cell_type": "markdown",
   "metadata": {},
   "source": [
    "#### Q2. Use an if statement to check how many gallons we have purchased and print a grammatically correct sentence."
   ]
  },
  {
   "cell_type": "code",
   "execution_count": 14,
   "metadata": {
    "colab": {},
    "colab_type": "code",
    "id": "BlIVvsd2WGzY"
   },
   "outputs": [
    {
     "name": "stdout",
     "output_type": "stream",
     "text": [
      "I Purchased  3 Gallons of Milk\n"
     ]
    }
   ],
   "source": [
    "milk=2\n",
    "eggs=0\n",
    "store_has_eggs=False\n",
    "milk=milk+1 # i am adding one lit\n",
    "\n",
    "if store_has_eggs == True:\n",
    "    eggs=12         #eggs=eggs+12\n",
    "if milk == 1:\n",
    "    print(\"I Purchased \",milk,\"Gallon of Milk\")\n",
    "\n",
    "else :\n",
    "    print(\"I Purchased \",milk,\"Gallons of Milk\")\n",
    "    \n",
    "\n"
   ]
  },
  {
   "cell_type": "markdown",
   "metadata": {
    "colab_type": "text",
    "id": "WPHqzVlcWGzb"
   },
   "source": [
    "Excellent! There is a way to improve this code for humans though. If we purchase only 1 gallon of milk then we should say 'gallon' instead of 'gallons'. \n",
    "\n"
   ]
  },
  {
   "cell_type": "code",
   "execution_count": 15,
   "metadata": {
    "colab": {
     "base_uri": "https://localhost:8080/",
     "height": 52
    },
    "colab_type": "code",
    "executionInfo": {
     "elapsed": 854,
     "status": "ok",
     "timestamp": 1557556058893,
     "user": {
      "displayName": "Desmond Sek",
      "photoUrl": "https://lh3.googleusercontent.com/-kpaWQQmtEpQ/AAAAAAAAAAI/AAAAAAAAc5k/V4TZA_YKVSI/s64/photo.jpg",
      "userId": "15004601375355093954"
     },
     "user_tz": -480
    },
    "id": "thJ_h2TIWGzc",
    "outputId": "1df86757-7138-4eb3-c660-16bc9cb79012"
   },
   "outputs": [],
   "source": [
    "# Make the final print statement grammatically correct with an `if` statement\n",
    "# Define variables needed\n",
    "\n",
    "\n",
    "# Purchasing decisions\n",
    "\n",
    "\n",
    "# Check what was purchased\n"
   ]
  },
  {
   "cell_type": "markdown",
   "metadata": {
    "colab_type": "text",
    "id": "9-xpMgZsWGze"
   },
   "source": [
    "We can use if statements in a large number of contexts too. We can use it to check and see if a certain character is in a string for example."
   ]
  },
  {
   "cell_type": "code",
   "execution_count": 16,
   "metadata": {},
   "outputs": [
    {
     "data": {
      "text/plain": [
       "True"
      ]
     },
     "execution_count": 16,
     "metadata": {},
     "output_type": "execute_result"
    }
   ],
   "source": [
    "\"a\" in \"adam\""
   ]
  },
  {
   "cell_type": "code",
   "execution_count": 17,
   "metadata": {},
   "outputs": [
    {
     "data": {
      "text/plain": [
       "False"
      ]
     },
     "execution_count": 17,
     "metadata": {},
     "output_type": "execute_result"
    }
   ],
   "source": [
    "\"z\" in \"adam\""
   ]
  },
  {
   "cell_type": "code",
   "execution_count": 21,
   "metadata": {
    "colab": {
     "base_uri": "https://localhost:8080/",
     "height": 34
    },
    "colab_type": "code",
    "executionInfo": {
     "elapsed": 601,
     "status": "ok",
     "timestamp": 1557556117211,
     "user": {
      "displayName": "Desmond Sek",
      "photoUrl": "https://lh3.googleusercontent.com/-kpaWQQmtEpQ/AAAAAAAAAAI/AAAAAAAAc5k/V4TZA_YKVSI/s64/photo.jpg",
      "userId": "15004601375355093954"
     },
     "user_tz": -480
    },
    "id": "bJ5JO9WXWGzf",
    "outputId": "eb4baf04-c972-40c2-b365-413858487e35"
   },
   "outputs": [
    {
     "name": "stdout",
     "output_type": "stream",
     "text": [
      "Yes It is there\n"
     ]
    }
   ],
   "source": [
    "if 'a' in 'adam':\n",
    "    print('Yes It is there')\n",
    "else :\n",
    "    print(\"It is not there\")"
   ]
  },
  {
   "cell_type": "code",
   "execution_count": 23,
   "metadata": {},
   "outputs": [
    {
     "name": "stdout",
     "output_type": "stream",
     "text": [
      "Yes It is there\n"
     ]
    }
   ],
   "source": [
    "if 'd' in 'adam':\n",
    "    print('Yes It is there')"
   ]
  },
  {
   "cell_type": "code",
   "execution_count": null,
   "metadata": {},
   "outputs": [],
   "source": []
  },
  {
   "cell_type": "markdown",
   "metadata": {
    "colab_type": "text",
    "id": "oTW8zugxWGzk"
   },
   "source": [
    "Or if something is less, more, or not equal"
   ]
  },
  {
   "cell_type": "code",
   "execution_count": 25,
   "metadata": {
    "colab": {},
    "colab_type": "code",
    "id": "-y17xG1oWGzm",
    "outputId": "4fa77e12-a68d-4af8-a139-cc6fd9996b5c"
   },
   "outputs": [
    {
     "name": "stdout",
     "output_type": "stream",
     "text": [
      "Its Fair\n"
     ]
    }
   ],
   "source": [
    "my_pay = 20\n",
    "my_siblings_pay = 10\n",
    "if my_pay < my_siblings_pay:\n",
    "    print(\"That's not fair! They got more than me!\")\n",
    "else :\n",
    "    print(\"Its Fair\")\n"
   ]
  },
  {
   "cell_type": "markdown",
   "metadata": {
    "colab_type": "text",
    "id": "Iv46DuWdWGzp"
   },
   "source": [
    "But sometimes we might want to chain multiple conditions together - for example, if we got paid the same or more than our sibling we might want to say that we think it is fair. \n",
    "\n",
    "To do that we pair the `if` with an `else`."
   ]
  },
  {
   "cell_type": "code",
   "execution_count": 26,
   "metadata": {
    "colab": {},
    "colab_type": "code",
    "id": "1r7wYlGzWGzp",
    "outputId": "c7c6388a-5041-41b2-c758-89b1318d9467"
   },
   "outputs": [
    {
     "name": "stdout",
     "output_type": "stream",
     "text": [
      "Well, that seems fair\n"
     ]
    }
   ],
   "source": [
    "my_pay = 15\n",
    "my_siblings_pay = 10\n",
    "\n",
    "if my_pay < my_siblings_pay:                                       # if condition\n",
    "                                                                         #print\n",
    "    print(\"That's not fair! They got more than me!\")\n",
    "else:\n",
    "    print(\"Well, that seems fair\")"
   ]
  },
  {
   "cell_type": "markdown",
   "metadata": {
    "colab_type": "text",
    "id": "FtpIoTZhWGzt"
   },
   "source": [
    "When we put an `if` statement inside another `if` statement that is called nesting. \n",
    "\n",
    "However, while we can nest code inside it is best to only do it when appropriate.\n",
    "\n",
    "**So when do I nest an `if` statement?**\n",
    "\n",
    "We nest `if` statements if we want to evaluate one condition and then further evaluate a separate condition. As an example, if we thought that it was fair for our sibling to get paid more than us *if* they were 5 years older than we were, that would be a good time to nest an `if` statement. \n",
    "\n",
    "When we want to evaluate the same condition it is best to do it all at the same level of code. To add in another condition we use the `elif` command (which stands for 'else if')"
   ]
  },
  {
   "cell_type": "code",
   "execution_count": 28,
   "metadata": {
    "colab": {},
    "colab_type": "code",
    "id": "qDWctP-WWGzu"
   },
   "outputs": [
    {
     "name": "stdout",
     "output_type": "stream",
     "text": [
      "Well, that seems fair\n"
     ]
    }
   ],
   "source": [
    "# Modify to handle all 3 conditions with what you already know\n",
    "my_pay = 11\n",
    "my_siblings_pay = 10\n",
    "\n",
    "if my_pay < my_siblings_pay:       # you are getting less pay\n",
    "    print(\"That's not fair! They got more than me!\")\n",
    "elif my_pay == my_siblings_pay:    # same pay                          elif -> else if \n",
    "    print(\"Well, we did do the same amount after all\")\n",
    "else:                              # more pay\n",
    "    print(\"Well, that seems fair\")"
   ]
  },
  {
   "cell_type": "markdown",
   "metadata": {
    "colab_type": "text",
    "id": "UfNiAECmWGzw"
   },
   "source": [
    "# Keeping code running (`while` loops)\n",
    "\n",
    "\n",
    "## While loops\n",
    "\n",
    "A loop is used to repeat a block of commands multiple times. There are two ways to write a loop, one is a `for` loop and the other is a `while` loop. Typically, you use a `for` loop when you know how many times you want to loop, and a `while` loop when looping is based on a conditional that will be modified during the loop.\n",
    "\n",
    "A `while` loop is pretty simple, it's structure looks like:\n",
    "\n",
    "    while a_condition:\n",
    "        # do something\n",
    "        ...\n",
    "        \n",
    "and it continues until `a_condition` is false.\n",
    "\n",
    "\n",
    "As an example, let's think about trying to write code to perform division. \n",
    "\n",
    "So how do we do division? How can we do it in code?\n",
    "\n",
    "Well let's see: we have the number we want to divide and the divisor.\n",
    "\n",
    "We want to know the number of times that the divisor goes into our number. \n",
    "\n",
    "Once the divisor can no longer go into our number, we've reached the end. This means we want to use a `while` loop to continue subtracting the divisor from our original number. "
   ]
  },
  {
   "cell_type": "code",
   "execution_count": 34,
   "metadata": {
    "colab": {},
    "colab_type": "code",
    "id": "LwN3ga9gWGzx",
    "outputId": "e7b2ff94-a30f-459b-f501-761b9fd22930"
   },
   "outputs": [
    {
     "name": "stdout",
     "output_type": "stream",
     "text": [
      "190\n",
      "180\n",
      "170\n",
      "160\n",
      "150\n",
      "140\n",
      "130\n",
      "120\n",
      "110\n",
      "100\n",
      "90\n",
      "80\n",
      "70\n",
      "60\n",
      "50\n",
      "40\n",
      "30\n",
      "20\n",
      "10\n",
      "0\n"
     ]
    }
   ],
   "source": [
    "# Our numeric variables\n",
    "\n",
    "num=200\n",
    "div=10\n",
    "\n",
    "while num>2:  # run this till we get num 0 or less than zero\n",
    "    num=num - div\n",
    "    print(num)                      # print(\"num\") - > num   # print(num ) - > value of num\n",
    "    "
   ]
  },
  {
   "cell_type": "markdown",
   "metadata": {
    "colab_type": "text",
    "id": "q-RpP9hBWGz0"
   },
   "source": [
    "The most important part to always keep track of is that you finish the condition that you started the `while` loop with. Otherwise, it'll just keep going on and on for forever!"
   ]
  },
  {
   "cell_type": "markdown",
   "metadata": {
    "colab_type": "text",
    "id": "qeXv0UlyWGz1"
   },
   "source": [
    "# Iterating through a sequence (`for` loops)\n",
    "\n",
    "A `while` loop is an excellent choice when you need to perform a set of commands and do not know how many times they *should* be executed but do know when the commands *should finish*. \n",
    "\n",
    "Our next option helps us solve the other part of looping, when we know *how many times* a command should be executed.\n",
    "\n",
    "## For loops\n",
    "\n",
    "A `for` loop lets us repeat a set of commands a defined number of times. The syntax for a `for` loop is just:\n",
    "\n",
    "    for item in sequence:\n",
    "        # do something with item\n",
    "        ...\n",
    "\n",
    "But what is a sequence?\n",
    "\n",
    "There are lots of functions in Python that will actually return a sequence - they are called *iterators*. An iterator essentially provides the next element in the sequence each time we access it. \n",
    "\n",
    "The iterator that we will use to demonstrate a for loop is the `range()` function. The range function gives us a sequence of numbers from the first number we give it up until the last number we give it."
   ]
  },
  {
   "cell_type": "code",
   "execution_count": 35,
   "metadata": {
    "colab": {
     "base_uri": "https://localhost:8080/",
     "height": 34
    },
    "colab_type": "code",
    "executionInfo": {
     "elapsed": 647,
     "status": "ok",
     "timestamp": 1557556944558,
     "user": {
      "displayName": "Desmond Sek",
      "photoUrl": "https://lh3.googleusercontent.com/-kpaWQQmtEpQ/AAAAAAAAAAI/AAAAAAAAc5k/V4TZA_YKVSI/s64/photo.jpg",
      "userId": "15004601375355093954"
     },
     "user_tz": -480
    },
    "id": "j8JV23zuWGz1",
    "outputId": "1a974546-27dc-4f7e-c0c2-0a778f4d9597"
   },
   "outputs": [
    {
     "data": {
      "text/plain": [
       "range(1, 5)"
      ]
     },
     "execution_count": 35,
     "metadata": {},
     "output_type": "execute_result"
    }
   ],
   "source": [
    "range(1,5)"
   ]
  },
  {
   "cell_type": "markdown",
   "metadata": {
    "colab_type": "text",
    "id": "Dxh9ZTmdWGz5"
   },
   "source": [
    "That doesn't look right! \n",
    "\n",
    "It's because it's an iterator, in order to access the numbers we have to actually access the iterator each time to 'pull' a number out."
   ]
  },
  {
   "cell_type": "code",
   "execution_count": 37,
   "metadata": {
    "colab": {
     "base_uri": "https://localhost:8080/",
     "height": 87
    },
    "colab_type": "code",
    "executionInfo": {
     "elapsed": 777,
     "status": "ok",
     "timestamp": 1557556967089,
     "user": {
      "displayName": "Desmond Sek",
      "photoUrl": "https://lh3.googleusercontent.com/-kpaWQQmtEpQ/AAAAAAAAAAI/AAAAAAAAc5k/V4TZA_YKVSI/s64/photo.jpg",
      "userId": "15004601375355093954"
     },
     "user_tz": -480
    },
    "id": "63_Jtb4iWGz6",
    "outputId": "5290288b-e81e-4411-a9ed-8802815a48c6"
   },
   "outputs": [
    {
     "name": "stdout",
     "output_type": "stream",
     "text": [
      "1\n",
      "2\n",
      "3\n",
      "4\n"
     ]
    }
   ],
   "source": [
    "for a in range(1,5):\n",
    "    print(a)"
   ]
  },
  {
   "cell_type": "markdown",
   "metadata": {
    "colab_type": "text",
    "id": "R7rixwbGWGz-"
   },
   "source": [
    "What's happening is that each time we go to the top of the for loop, we pull another number out of the sequence and that number is assigned to `i`.\n",
    "\n",
    "After that point, we execute all of the indented code in the block with the current value of `i`. Once we've finished executing the code we go back up to the top and assign the next value in the sequence to `i`."
   ]
  },
  {
   "cell_type": "code",
   "execution_count": 41,
   "metadata": {
    "colab": {
     "base_uri": "https://localhost:8080/",
     "height": 301
    },
    "colab_type": "code",
    "executionInfo": {
     "elapsed": 1774,
     "status": "ok",
     "timestamp": 1557557072126,
     "user": {
      "displayName": "Desmond Sek",
      "photoUrl": "https://lh3.googleusercontent.com/-kpaWQQmtEpQ/AAAAAAAAAAI/AAAAAAAAc5k/V4TZA_YKVSI/s64/photo.jpg",
      "userId": "15004601375355093954"
     },
     "user_tz": -480
    },
    "id": "zYcalRvQWGz_",
    "outputId": "b74c919b-fb03-4c42-f7f6-ae29ed9a7e91",
    "scrolled": true
   },
   "outputs": [
    {
     "name": "stdout",
     "output_type": "stream",
     "text": [
      "10\n",
      "20\n",
      "30\n",
      "40\n",
      "50\n",
      "60\n",
      "70\n",
      "80\n",
      "90\n",
      "100\n"
     ]
    }
   ],
   "source": [
    "for i in range(1,11):\n",
    "    #print(i)\n",
    "    print(i*10)\n",
    "    "
   ]
  },
  {
   "cell_type": "markdown",
   "metadata": {
    "colab_type": "text",
    "id": "1TIGAYLgWG0B"
   },
   "source": [
    "Using a for loop is very useful when we want to access all of the elements of some variable. For example, if we know that we want to do something to every individual letter in a string, we could use the range funciton to access each element directly."
   ]
  },
  {
   "cell_type": "code",
   "execution_count": 12,
   "metadata": {
    "colab": {
     "base_uri": "https://localhost:8080/",
     "height": 87
    },
    "colab_type": "code",
    "executionInfo": {
     "elapsed": 857,
     "status": "ok",
     "timestamp": 1557557142589,
     "user": {
      "displayName": "Desmond Sek",
      "photoUrl": "https://lh3.googleusercontent.com/-kpaWQQmtEpQ/AAAAAAAAAAI/AAAAAAAAc5k/V4TZA_YKVSI/s64/photo.jpg",
      "userId": "15004601375355093954"
     },
     "user_tz": -480
    },
    "id": "B1pU_aQKWG0C",
    "outputId": "2b0094f4-bc0f-49f1-c6e0-117ea445f39d"
   },
   "outputs": [
    {
     "name": "stdout",
     "output_type": "stream",
     "text": [
      "h\n",
      "a\n",
      "m\n",
      "s\n"
     ]
    }
   ],
   "source": [
    "phrase = 'hams'\n",
    "\n",
    "for i in range(4):\n",
    "    print( phrase[i] )"
   ]
  },
  {
   "cell_type": "markdown",
   "metadata": {
    "colab_type": "text",
    "id": "CWztQ3z9WG0F"
   },
   "source": [
    "Note that the range we are iterating through **must** match the number of letters in `phrase`. Otherwise we would have an error as we try to access parts of the `phrase` variable that doesn't exist."
   ]
  },
  {
   "cell_type": "code",
   "execution_count": 44,
   "metadata": {
    "colab": {
     "base_uri": "https://localhost:8080/",
     "height": 275
    },
    "colab_type": "code",
    "executionInfo": {
     "elapsed": 786,
     "status": "error",
     "timestamp": 1557557156094,
     "user": {
      "displayName": "Desmond Sek",
      "photoUrl": "https://lh3.googleusercontent.com/-kpaWQQmtEpQ/AAAAAAAAAAI/AAAAAAAAc5k/V4TZA_YKVSI/s64/photo.jpg",
      "userId": "15004601375355093954"
     },
     "user_tz": -480
    },
    "id": "ZscpHJyNWG0I",
    "outputId": "d7547ece-e007-4f2d-b55a-19f2ecc666d7"
   },
   "outputs": [
    {
     "name": "stdout",
     "output_type": "stream",
     "text": [
      "h\n",
      "a\n",
      "m\n",
      "s\n",
      "a\n",
      "s\n",
      "a\n"
     ]
    }
   ],
   "source": [
    "phrase = 'hamsasas'\n",
    "\n",
    "for i in range(7):\n",
    "    print( phrase[i] )"
   ]
  },
  {
   "cell_type": "markdown",
   "metadata": {
    "colab_type": "text",
    "id": "yUtrd69lWG0N"
   },
   "source": [
    "So this would allow us to actually manipulate the individual characters of a string and create a new string that has the manipulated characters."
   ]
  },
  {
   "cell_type": "markdown",
   "metadata": {
    "colab_type": "text",
    "id": "ZIzu66WDWG0N"
   },
   "source": [
    "# Exercises"
   ]
  },
  {
   "cell_type": "markdown",
   "metadata": {
    "colab_type": "text",
    "id": "zgpSUjCFWG0O"
   },
   "source": [
    "program find and prints grade of student based on Average Marks\n",
    "\n",
    "\n",
    "81-100\tA\n",
    "\n",
    "61-80\tB\n",
    "\t\n",
    "41-60\tC\n",
    "\n",
    "0-40    F"
   ]
  },
  {
   "cell_type": "code",
   "execution_count": 52,
   "metadata": {
    "colab": {},
    "colab_type": "code",
    "id": "r70mXUkKWG0Q"
   },
   "outputs": [],
   "source": [
    "avg=65"
   ]
  },
  {
   "cell_type": "code",
   "execution_count": 53,
   "metadata": {
    "colab": {},
    "colab_type": "code",
    "id": "LXHgg5BdWG0S"
   },
   "outputs": [
    {
     "name": "stdout",
     "output_type": "stream",
     "text": [
      "Grade B\n"
     ]
    }
   ],
   "source": [
    "if avg>=81 and avg<=100:\n",
    "    print(\"Grade A\")\n",
    "elif avg>=61 and avg<=80: \n",
    "    print(\"Grade B\")\n",
    "elif avg>=41 and avg<=60:                # no limit to use ELIF\n",
    "    print(\"Grade C\")\n",
    "elif avg>=0 and avg<=40:\n",
    "    print(\"Grade F\")\n",
    "else:\n",
    "    print(\"Invalid \")"
   ]
  },
  {
   "cell_type": "code",
   "execution_count": null,
   "metadata": {},
   "outputs": [],
   "source": [
    "# Break is till 4:55PM"
   ]
  },
  {
   "cell_type": "code",
   "execution_count": null,
   "metadata": {},
   "outputs": [],
   "source": []
  },
  {
   "cell_type": "code",
   "execution_count": null,
   "metadata": {},
   "outputs": [],
   "source": [
    "\n"
   ]
  },
  {
   "cell_type": "code",
   "execution_count": null,
   "metadata": {},
   "outputs": [],
   "source": []
  },
  {
   "cell_type": "code",
   "execution_count": null,
   "metadata": {},
   "outputs": [],
   "source": []
  }
 ],
 "metadata": {
  "colab": {
   "name": "Day2_1_Flow-Control.ipynb",
   "provenance": [],
   "version": "0.3.2"
  },
  "kernelspec": {
   "display_name": "Python 3 (ipykernel)",
   "language": "python",
   "name": "python3"
  },
  "language_info": {
   "codemirror_mode": {
    "name": "ipython",
    "version": 3
   },
   "file_extension": ".py",
   "mimetype": "text/x-python",
   "name": "python",
   "nbconvert_exporter": "python",
   "pygments_lexer": "ipython3",
   "version": "3.9.7"
  }
 },
 "nbformat": 4,
 "nbformat_minor": 1
}
