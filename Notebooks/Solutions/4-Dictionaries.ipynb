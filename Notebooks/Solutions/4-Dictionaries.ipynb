{
 "cells": [
  {
   "cell_type": "markdown",
   "metadata": {
    "colab_type": "text",
    "id": "jO1lOzLuLXE9"
   },
   "source": [
    "# Synopsis\n",
    "\n",
    "In this unit we will learn that:\n",
    "\n",
    "1. **Dictionaries** are **mutable unordered** collections whose elements are accessed using **keys**.\n",
    "\n",
    "    1. Dictionaries are created using the `{}` syntax.\n",
    "    \n",
    "    2. Dictionaries are composed of `key, value` pairs.\n",
    "\n",
    "    3. Each `key, value` pair is called an *item*.\n",
    "    \n",
    "    4. `Items` can be added to a dictionary using the built-in method `update()`.\n",
    "    \n",
    "    5. `Items` can be changed using instanciation.\n",
    "    \n",
    "    6. `Items` can be removed usind the functions `del` and the method `pop()`.\n",
    "    \n",
    "2. Dictionaries allow nesting with all data types.\n",
    "\n",
    "3. We can access all `items`, `keys`, and `values` in a dictionary."
   ]
  },
  {
   "cell_type": "markdown",
   "metadata": {
    "colab_type": "text",
    "collapsed": true,
    "id": "1fz0aj5ALXFA"
   },
   "source": [
    "## Dictionaries\n",
    "\n",
    "A Python dictionary is an extraordinarily useful data type that expands on the possibilities offered by lists.  In a list one keeps track of the elements by an index that must be an integer.  **Dictionaries keep track of elements by `key`!**\n",
    "\n",
    "Each element in a dictionary is an **item**, and every `item` has both a **key** and a **value**. You use the `key` to \"look up\" the `value`. This concept is just like if we wanted to look up the meaning of a word in a real dictionary. Also, just like in a real dictionary, it means that all of the `keys` **must** be unique. If we had a `key` multiple times, then we wouldn't know where to go look up its `value`. Remember `sets`?  **The `keys` in a dictionary form a set!**\n",
    "\n",
    "The syntax to create a dictionary also uses the syntax`{}`. If we are initializing a dictionary, we enter `key-value` pairs separated by commas; for each `item`, the key is separated from the value by a colon.\n",
    "\n",
    "`a_dict = {key : value, another_key : another_value}`\n"
   ]
  },
  {
   "cell_type": "markdown",
   "metadata": {
    "colab_type": "text",
    "id": "ehKKdFYdLXFB"
   },
   "source": [
    "## What are dictionaries good for?\n",
    "\n",
    "Great that you would ask! Recall the project involving all the student records?  Dictionaries are **the** data type to deal with records.  What are `Date of Birth` and `Age` if not keys? \n",
    "\n",
    "Let's retrieve our code so that we can start seeing how great dictionaries are."
   ]
  },
  {
   "cell_type": "markdown",
   "metadata": {
    "colab_type": "text",
    "id": "waNy7PAULXFY"
   },
   "source": [
    "Let's look into the properties of dictionaries.  Dictionaries are **mutable**. You can change the value of an element by re-assigning its value.\n",
    "\n",
    "Dictionaries are **unordered**. If you print the same dictionary twice, the order in which `items` will be printed does not need to be the same. \n",
    "\n",
    "If we want to add a new `key-value` pair to the dictionary, we access a new `key` and assign it a value. If we want to add multiple `items` to a dictionary, we must use the built-in method `update()`."
   ]
  },
  {
   "cell_type": "code",
   "execution_count": 2,
   "metadata": {},
   "outputs": [],
   "source": [
    "thisdict = {\n",
    "  \"brand\": \"Ford\",\n",
    "  \"model\": \"Mustang\",\n",
    "  \"year\": 1964\n",
    "}"
   ]
  },
  {
   "cell_type": "code",
   "execution_count": 3,
   "metadata": {},
   "outputs": [
    {
     "name": "stdout",
     "output_type": "stream",
     "text": [
      "Ford\n"
     ]
    }
   ],
   "source": [
    "print(thisdict[\"brand\"])"
   ]
  },
  {
   "cell_type": "code",
   "execution_count": null,
   "metadata": {
    "colab": {
     "base_uri": "https://localhost:8080/",
     "height": 35
    },
    "colab_type": "code",
    "executionInfo": {
     "elapsed": 1232,
     "status": "ok",
     "timestamp": 1590818741679,
     "user": {
      "displayName": "Desmond Sek",
      "photoUrl": "https://lh3.googleusercontent.com/a-/AOh14GjQj9ANFvLsRLkJAoNiRe9I6br32aYvAs1rqTwiF6M=s64",
      "userId": "15004601375355093954"
     },
     "user_tz": -480
    },
    "id": "qKyMP7UXLXFZ",
    "outputId": "825b84ce-57e1-4055-cbfc-c69c935ae80c"
   },
   "outputs": [
    {
     "name": "stdout",
     "output_type": "stream",
     "text": [
      "{'Favorite Sport': 'Soccer'}\n"
     ]
    }
   ],
   "source": [
    "# Let us create a dictionary\n",
    "data_dict = {} #a blank dictionary\n",
    "\n",
    "data_dict['Favorite Sport'] = 'Soccer'# 'Favorite Sport' is our `Key`, 'Soccer' is the `value`\n",
    "print(data_dict)\n",
    "#print(len(data_dict))"
   ]
  },
  {
   "cell_type": "code",
   "execution_count": null,
   "metadata": {
    "colab": {
     "base_uri": "https://localhost:8080/",
     "height": 35
    },
    "colab_type": "code",
    "executionInfo": {
     "elapsed": 1469,
     "status": "ok",
     "timestamp": 1590818789334,
     "user": {
      "displayName": "Desmond Sek",
      "photoUrl": "https://lh3.googleusercontent.com/a-/AOh14GjQj9ANFvLsRLkJAoNiRe9I6br32aYvAs1rqTwiF6M=s64",
      "userId": "15004601375355093954"
     },
     "user_tz": -480
    },
    "id": "9GtauZxrbGxl",
    "outputId": "305ccad5-fe83-4417-9502-f58cd3705a3e"
   },
   "outputs": [
    {
     "name": "stdout",
     "output_type": "stream",
     "text": [
      "{'Favorite Sport': 'Soccer', 'Favorite Sports Team': 'S. L. Benfica', 'Favorite Sports Team Mascot': 'Eagle'}\n"
     ]
    }
   ],
   "source": [
    "data_dict.update({'Favorite Sports Team': 'S. L. Benfica', \n",
    "                  'Favorite Sports Team Mascot': 'Eagle'})\n",
    "print(data_dict)"
   ]
  },
  {
   "cell_type": "code",
   "execution_count": null,
   "metadata": {
    "colab": {},
    "colab_type": "code",
    "id": "xs02nsRwhpDc"
   },
   "outputs": [],
   "source": [
    "data_dict['Favorite Sport'] = \"Football\" #change our key of `Favourite Sport` to \"Football\"\n",
    "print(data_dict) "
   ]
  },
  {
   "cell_type": "code",
   "execution_count": null,
   "metadata": {
    "colab": {
     "base_uri": "https://localhost:8080/",
     "height": 124
    },
    "colab_type": "code",
    "executionInfo": {
     "elapsed": 1543,
     "status": "ok",
     "timestamp": 1590818920129,
     "user": {
      "displayName": "Desmond Sek",
      "photoUrl": "https://lh3.googleusercontent.com/a-/AOh14GjQj9ANFvLsRLkJAoNiRe9I6br32aYvAs1rqTwiF6M=s64",
      "userId": "15004601375355093954"
     },
     "user_tz": -480
    },
    "id": "X5SXb1ltNpyU",
    "outputId": "71385513-43d3-4325-954e-78881ab7e170"
   },
   "outputs": [
    {
     "name": "stdout",
     "output_type": "stream",
     "text": [
      "dict_keys(['Favorite Sport', 'Favorite Sports Team', 'Favorite Sports Team Mascot'])\n",
      "\n",
      "dict_values(['Football', 'S. L. Benfica', 'Eagle'])\n",
      "\n",
      "dict_items([('Favorite Sport', 'Football'), ('Favorite Sports Team', 'S. L. Benfica'), ('Favorite Sports Team Mascot', 'Eagle')])\n"
     ]
    }
   ],
   "source": [
    "print(data_dict.keys())   # It looks like as list of strings\n",
    "print()\n",
    "print(data_dict.values()) # It looks like a list\n",
    "print()\n",
    "print(data_dict.items())  # It looks like a list of tuples\n"
   ]
  },
  {
   "cell_type": "markdown",
   "metadata": {
    "colab_type": "text",
    "id": "h6zyuLiwLXFc"
   },
   "source": [
    "To remove a `key-value` pair from a `dict` variable, we can use `del` and provide the `key`. Guess what happens if you provide a `key` that does not exist? \n",
    "\n",
    "Alternatively, you can use the built-in method `pop()` and provide a `key`. This method deletes the `item` with `key` and returns the `value`.\n"
   ]
  },
  {
   "cell_type": "code",
   "execution_count": null,
   "metadata": {
    "colab": {},
    "colab_type": "code",
    "id": "Iqi13ApHLXFc"
   },
   "outputs": [],
   "source": [
    "# Two ways to delete items from a dict\n",
    "del data_dict['Favorite Sports Team Mascot']"
   ]
  },
  {
   "cell_type": "code",
   "execution_count": null,
   "metadata": {
    "colab": {
     "base_uri": "https://localhost:8080/",
     "height": 35
    },
    "colab_type": "code",
    "executionInfo": {
     "elapsed": 925,
     "status": "ok",
     "timestamp": 1590819101660,
     "user": {
      "displayName": "Desmond Sek",
      "photoUrl": "https://lh3.googleusercontent.com/a-/AOh14GjQj9ANFvLsRLkJAoNiRe9I6br32aYvAs1rqTwiF6M=s64",
      "userId": "15004601375355093954"
     },
     "user_tz": -480
    },
    "id": "6sL8p7AIbRJv",
    "outputId": "e844622e-0d48-44b0-bb8d-320dcb382e6f"
   },
   "outputs": [
    {
     "data": {
      "text/plain": [
       "{'Favorite Sport': 'Football', 'Favorite Sports Team': 'S. L. Benfica'}"
      ]
     },
     "execution_count": 7,
     "metadata": {
      "tags": []
     },
     "output_type": "execute_result"
    }
   ],
   "source": [
    "data_dict"
   ]
  },
  {
   "cell_type": "code",
   "execution_count": null,
   "metadata": {
    "colab": {
     "base_uri": "https://localhost:8080/",
     "height": 52
    },
    "colab_type": "code",
    "executionInfo": {
     "elapsed": 1171,
     "status": "ok",
     "timestamp": 1590819117677,
     "user": {
      "displayName": "Desmond Sek",
      "photoUrl": "https://lh3.googleusercontent.com/a-/AOh14GjQj9ANFvLsRLkJAoNiRe9I6br32aYvAs1rqTwiF6M=s64",
      "userId": "15004601375355093954"
     },
     "user_tz": -480
    },
    "id": "cftK4vcwbTNM",
    "outputId": "8c0ada9d-6c08-4c07-8d14-f1420eed7c13"
   },
   "outputs": [
    {
     "name": "stdout",
     "output_type": "stream",
     "text": [
      "S. L. Benfica\n",
      "Football\n"
     ]
    }
   ],
   "source": [
    "print(data_dict.pop('Favorite Sports Team'))\n",
    "print(data_dict.pop('Favorite Sport'))"
   ]
  },
  {
   "cell_type": "code",
   "execution_count": null,
   "metadata": {
    "colab": {
     "base_uri": "https://localhost:8080/",
     "height": 35
    },
    "colab_type": "code",
    "executionInfo": {
     "elapsed": 1100,
     "status": "ok",
     "timestamp": 1590819121908,
     "user": {
      "displayName": "Desmond Sek",
      "photoUrl": "https://lh3.googleusercontent.com/a-/AOh14GjQj9ANFvLsRLkJAoNiRe9I6br32aYvAs1rqTwiF6M=s64",
      "userId": "15004601375355093954"
     },
     "user_tz": -480
    },
    "id": "HMHSZFUuff0l",
    "outputId": "1f3c0a42-9674-4ecf-fb43-cfebef3b2d9f"
   },
   "outputs": [
    {
     "data": {
      "text/plain": [
       "{}"
      ]
     },
     "execution_count": 9,
     "metadata": {
      "tags": []
     },
     "output_type": "execute_result"
    }
   ],
   "source": [
    "data_dict"
   ]
  },
  {
   "cell_type": "code",
   "execution_count": null,
   "metadata": {
    "colab": {},
    "colab_type": "code",
    "id": "Rxjvxw3tfptB"
   },
   "outputs": [],
   "source": []
  }
 ],
 "metadata": {
  "colab": {
   "collapsed_sections": [],
   "name": "8_Dictionaries.ipynb",
   "provenance": []
  },
  "kernelspec": {
   "display_name": "Python 3 (ipykernel)",
   "language": "python",
   "name": "python3"
  },
  "language_info": {
   "codemirror_mode": {
    "name": "ipython",
    "version": 3
   },
   "file_extension": ".py",
   "mimetype": "text/x-python",
   "name": "python",
   "nbconvert_exporter": "python",
   "pygments_lexer": "ipython3",
   "version": "3.9.7"
  }
 },
 "nbformat": 4,
 "nbformat_minor": 1
}
