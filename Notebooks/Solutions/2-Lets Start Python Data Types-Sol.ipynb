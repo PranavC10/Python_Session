{
 "cells": [
  {
   "cell_type": "markdown",
   "id": "6cfa60aa",
   "metadata": {},
   "source": [
    "# Print\n",
    "\n",
    "The print() function prints the specified message to the screen, or other standard output device.\n",
    "\n",
    "The message can be a string, or any other object, the object will be converted into a string before written to the screen.\n"
   ]
  },
  {
   "cell_type": "markdown",
   "id": "58c027bb",
   "metadata": {},
   "source": [
    "### Printing String: "
   ]
  },
  {
   "cell_type": "code",
   "execution_count": 1,
   "id": "65c0410b",
   "metadata": {},
   "outputs": [
    {
     "name": "stdout",
     "output_type": "stream",
     "text": [
      "Hello World\n"
     ]
    }
   ],
   "source": [
    "print(\"Hello World\")"
   ]
  },
  {
   "cell_type": "markdown",
   "id": "2657a60c",
   "metadata": {},
   "source": [
    "### Printing Number: "
   ]
  },
  {
   "cell_type": "code",
   "execution_count": 3,
   "id": "075dfb00",
   "metadata": {},
   "outputs": [
    {
     "name": "stdout",
     "output_type": "stream",
     "text": [
      "111\n"
     ]
    }
   ],
   "source": [
    "print(111)"
   ]
  },
  {
   "cell_type": "code",
   "execution_count": 4,
   "id": "385a3dbd",
   "metadata": {},
   "outputs": [
    {
     "name": "stdout",
     "output_type": "stream",
     "text": [
      "10.145\n"
     ]
    }
   ],
   "source": [
    "print(10.145)"
   ]
  },
  {
   "cell_type": "code",
   "execution_count": null,
   "id": "acb80702",
   "metadata": {},
   "outputs": [],
   "source": []
  },
  {
   "cell_type": "markdown",
   "id": "b096d6cb",
   "metadata": {},
   "source": [
    "<mark> Task </mark>\n",
    "\n",
    "<mark> Print your Name:  </mark>"
   ]
  },
  {
   "cell_type": "code",
   "execution_count": null,
   "id": "5354b2f9",
   "metadata": {},
   "outputs": [],
   "source": []
  },
  {
   "cell_type": "markdown",
   "id": "d44d2d2e",
   "metadata": {},
   "source": [
    "<mark>  Print your lucky Number: </mark>"
   ]
  },
  {
   "cell_type": "code",
   "execution_count": null,
   "id": "52bc10ed",
   "metadata": {},
   "outputs": [],
   "source": []
  },
  {
   "cell_type": "markdown",
   "id": "20c9e3ac",
   "metadata": {},
   "source": [
    "## Fundamental data types\n",
    "\n",
    "Python has eight built-in data types. Four of those are quite simple, in the sense that they can store a single value:\n",
    "\n",
    "Integers\n",
    "\n",
    "Floats\n",
    "\n",
    "Booleans\n",
    "\n",
    "Strings\n"
   ]
  },
  {
   "cell_type": "markdown",
   "id": "6e429318",
   "metadata": {},
   "source": [
    "### Integers\n",
    "\n",
    "An Python integer is what in Math is called a **natural number**. They are the numbers you count.\n",
    "\n",
    "Python allows you to do basic arithmetic with integers whether you define variables or not. Those operation are represented using the same notation you saw on a calculator."
   ]
  },
  {
   "cell_type": "code",
   "execution_count": 5,
   "id": "cab2248a",
   "metadata": {},
   "outputs": [
    {
     "data": {
      "text/plain": [
       "4"
      ]
     },
     "execution_count": 5,
     "metadata": {},
     "output_type": "execute_result"
    }
   ],
   "source": [
    "2+2"
   ]
  },
  {
   "cell_type": "code",
   "execution_count": 6,
   "id": "90d4547f",
   "metadata": {},
   "outputs": [
    {
     "data": {
      "text/plain": [
       "0"
      ]
     },
     "execution_count": 6,
     "metadata": {},
     "output_type": "execute_result"
    }
   ],
   "source": [
    "2-2"
   ]
  },
  {
   "cell_type": "code",
   "execution_count": 8,
   "id": "e9f80884",
   "metadata": {},
   "outputs": [
    {
     "data": {
      "text/plain": [
       "4"
      ]
     },
     "execution_count": 8,
     "metadata": {},
     "output_type": "execute_result"
    }
   ],
   "source": [
    "2+(-2)+4"
   ]
  },
  {
   "cell_type": "code",
   "execution_count": 11,
   "id": "3b5b66da",
   "metadata": {},
   "outputs": [
    {
     "data": {
      "text/plain": [
       "1.3333333333333333"
      ]
     },
     "execution_count": 11,
     "metadata": {},
     "output_type": "execute_result"
    }
   ],
   "source": [
    "8/6"
   ]
  },
  {
   "cell_type": "markdown",
   "id": "782c8bed",
   "metadata": {},
   "source": [
    "We see that the division operator stores the answer that we are used to, which is $2.6\\bar{6}$. This behavior for the division operator is actually new in Python 3! Before in Python 2 when we would do the operation \n",
    "\n",
    "`first_result = 8 / 3`\n",
    "\n",
    "We would get the result:\n",
    "\n",
    "`print( first_result ) ==> 2`\n",
    "\n",
    "This was because it was thought that if we divide one integer by another integer, the operation should also return an integer in order to keep all the variable types the same. \n",
    "\n",
    "To access this form of truncating division (it's called truncating division, because it just truncates all the numbers after the decimal) we actually use `//` like this:"
   ]
  },
  {
   "cell_type": "code",
   "execution_count": 12,
   "id": "96031a66",
   "metadata": {},
   "outputs": [
    {
     "data": {
      "text/plain": [
       "1"
      ]
     },
     "execution_count": 12,
     "metadata": {},
     "output_type": "execute_result"
    }
   ],
   "source": [
    "8//6"
   ]
  },
  {
   "cell_type": "markdown",
   "id": "be87cba1",
   "metadata": {},
   "source": [
    "What if we want to get the remainder? The symbol is:"
   ]
  },
  {
   "cell_type": "code",
   "execution_count": 13,
   "id": "49d16597",
   "metadata": {},
   "outputs": [
    {
     "data": {
      "text/plain": [
       "2"
      ]
     },
     "execution_count": 13,
     "metadata": {},
     "output_type": "execute_result"
    }
   ],
   "source": [
    "8%6"
   ]
  },
  {
   "cell_type": "code",
   "execution_count": 14,
   "id": "dcd81db6",
   "metadata": {},
   "outputs": [],
   "source": [
    "a=2\n",
    "b=4"
   ]
  },
  {
   "cell_type": "code",
   "execution_count": 17,
   "id": "7e66eb86",
   "metadata": {},
   "outputs": [
    {
     "name": "stdout",
     "output_type": "stream",
     "text": [
      "6\n"
     ]
    }
   ],
   "source": [
    "print(a+b)"
   ]
  },
  {
   "cell_type": "markdown",
   "id": "781454d4",
   "metadata": {},
   "source": [
    "<mark> Use five mathematical operators (`+ - * / **`) to produce the number `4` </mark>"
   ]
  },
  {
   "cell_type": "code",
   "execution_count": null,
   "id": "9eb1d52f",
   "metadata": {},
   "outputs": [],
   "source": []
  },
  {
   "cell_type": "code",
   "execution_count": null,
   "id": "8ceb5bea",
   "metadata": {},
   "outputs": [],
   "source": []
  },
  {
   "cell_type": "code",
   "execution_count": null,
   "id": "a0e8436d",
   "metadata": {},
   "outputs": [],
   "source": []
  },
  {
   "cell_type": "code",
   "execution_count": null,
   "id": "c77ef9cd",
   "metadata": {},
   "outputs": [],
   "source": []
  },
  {
   "cell_type": "code",
   "execution_count": null,
   "id": "730adeef",
   "metadata": {},
   "outputs": [],
   "source": []
  },
  {
   "cell_type": "markdown",
   "id": "267d9628",
   "metadata": {},
   "source": [
    "### Floats\n",
    "A Python float is what in Math is called a rational number. While floats are meant to replicate on the computer real numbers the fact is that one can only use a limited amount of storage to keep a number so it is impossible to store an irrational number such as pi."
   ]
  },
  {
   "cell_type": "code",
   "execution_count": 19,
   "id": "9e4729dd",
   "metadata": {},
   "outputs": [
    {
     "name": "stdout",
     "output_type": "stream",
     "text": [
      "4.0\n"
     ]
    }
   ],
   "source": [
    "new_float = 4.0\n",
    "print(new_float)"
   ]
  },
  {
   "cell_type": "markdown",
   "id": "ca693f51",
   "metadata": {},
   "source": [
    "So what if we want to change an integer to a float or vice versa???\n",
    "\n",
    "All we have to do is cast the number using the data type name that we want to transform it to. We can see this below:"
   ]
  },
  {
   "cell_type": "code",
   "execution_count": 20,
   "id": "6642584f",
   "metadata": {},
   "outputs": [
    {
     "data": {
      "text/plain": [
       "4"
      ]
     },
     "execution_count": 20,
     "metadata": {},
     "output_type": "execute_result"
    }
   ],
   "source": [
    "int(4.8)"
   ]
  },
  {
   "cell_type": "code",
   "execution_count": 21,
   "id": "c3bf19b3",
   "metadata": {},
   "outputs": [
    {
     "data": {
      "text/plain": [
       "2.0"
      ]
     },
     "execution_count": 21,
     "metadata": {},
     "output_type": "execute_result"
    }
   ],
   "source": [
    "float(2)"
   ]
  },
  {
   "cell_type": "code",
   "execution_count": 22,
   "id": "f24470d3",
   "metadata": {},
   "outputs": [
    {
     "name": "stdout",
     "output_type": "stream",
     "text": [
      "<class 'int'>\n"
     ]
    }
   ],
   "source": [
    "basic_int = 2\n",
    "\n",
    "print( type(basic_int) )"
   ]
  },
  {
   "cell_type": "code",
   "execution_count": 23,
   "id": "1a224ffc",
   "metadata": {},
   "outputs": [
    {
     "name": "stdout",
     "output_type": "stream",
     "text": [
      "<class 'float'>\n"
     ]
    }
   ],
   "source": [
    "basic_int = 3.01\n",
    "\n",
    "print( type(basic_int) )"
   ]
  },
  {
   "cell_type": "markdown",
   "id": "27a06ed3",
   "metadata": {},
   "source": [
    "Now something that you should notice here is that `float` and `int` are colored green (as are `print` and `type`). That's because these are words in Python that are already defined by the language. \n",
    "\n",
    "**Python will let you overwrite them**. However, you should wait until you are a programming god to do it (or just don't do it. ever. either way). \n",
    "\n",
    "If you ever accidentally do it, like so:"
   ]
  },
  {
   "cell_type": "code",
   "execution_count": 27,
   "id": "19d47e52",
   "metadata": {},
   "outputs": [
    {
     "ename": "TypeError",
     "evalue": "'int' object is not callable",
     "output_type": "error",
     "traceback": [
      "\u001b[1;31m---------------------------------------------------------------------------\u001b[0m",
      "\u001b[1;31mTypeError\u001b[0m                                 Traceback (most recent call last)",
      "\u001b[1;32m~\\AppData\\Local\\Temp/ipykernel_21248/2764576151.py\u001b[0m in \u001b[0;36m<module>\u001b[1;34m\u001b[0m\n\u001b[0;32m      1\u001b[0m \u001b[0mint\u001b[0m \u001b[1;33m=\u001b[0m \u001b[1;36m4\u001b[0m\u001b[1;33m\u001b[0m\u001b[1;33m\u001b[0m\u001b[0m\n\u001b[0;32m      2\u001b[0m \u001b[1;33m\u001b[0m\u001b[0m\n\u001b[1;32m----> 3\u001b[1;33m \u001b[0mint\u001b[0m\u001b[1;33m(\u001b[0m\u001b[1;36m5.0\u001b[0m\u001b[1;33m)\u001b[0m\u001b[1;33m\u001b[0m\u001b[1;33m\u001b[0m\u001b[0m\n\u001b[0m",
      "\u001b[1;31mTypeError\u001b[0m: 'int' object is not callable"
     ]
    }
   ],
   "source": [
    "int = 4\n",
    "\n",
    "int(5.0)"
   ]
  },
  {
   "cell_type": "markdown",
   "id": "a3946820",
   "metadata": {},
   "source": [
    "you'll lose the int function. However, you can get it back if you just delete the undesired assignment."
   ]
  },
  {
   "cell_type": "code",
   "execution_count": 25,
   "id": "63898136",
   "metadata": {},
   "outputs": [],
   "source": [
    "del int"
   ]
  },
  {
   "cell_type": "code",
   "execution_count": 26,
   "id": "622540f1",
   "metadata": {},
   "outputs": [
    {
     "data": {
      "text/plain": [
       "5"
      ]
     },
     "execution_count": 26,
     "metadata": {},
     "output_type": "execute_result"
    }
   ],
   "source": [
    "int(5.0)"
   ]
  },
  {
   "cell_type": "markdown",
   "id": "59cedc4f",
   "metadata": {},
   "source": [
    "Order of operations\n",
    "Python respects the typical order of operations when it evaluates expressions (PEMDAS - Parentheses, Exponents, Multiplication, Division, Addition, Subtraction).\n",
    "\n",
    "To access the exponentiation operation, you use the ** symbol."
   ]
  },
  {
   "cell_type": "code",
   "execution_count": 28,
   "id": "bda49a3f",
   "metadata": {},
   "outputs": [
    {
     "data": {
      "text/plain": [
       "8"
      ]
     },
     "execution_count": 28,
     "metadata": {},
     "output_type": "execute_result"
    }
   ],
   "source": [
    "2 ** 3"
   ]
  },
  {
   "cell_type": "code",
   "execution_count": 29,
   "id": "a68e3162",
   "metadata": {},
   "outputs": [
    {
     "name": "stdout",
     "output_type": "stream",
     "text": [
      "4\n"
     ]
    }
   ],
   "source": [
    "eqn1 = 2 * 3 - 2\n",
    "print( eqn1 )"
   ]
  },
  {
   "cell_type": "code",
   "execution_count": 30,
   "id": "a74baa95",
   "metadata": {},
   "outputs": [
    {
     "name": "stdout",
     "output_type": "stream",
     "text": [
      "4\n"
     ]
    }
   ],
   "source": [
    "eqn2 = -2 + 2 * 3\n",
    "print( eqn2 )"
   ]
  },
  {
   "cell_type": "code",
   "execution_count": 31,
   "id": "62704939",
   "metadata": {},
   "outputs": [
    {
     "name": "stdout",
     "output_type": "stream",
     "text": [
      "0\n"
     ]
    }
   ],
   "source": [
    "eqn3 = -2 + (2 % 3)\n",
    "print( eqn3 )"
   ]
  },
  {
   "cell_type": "code",
   "execution_count": 32,
   "id": "dda09ce7",
   "metadata": {},
   "outputs": [
    {
     "name": "stdout",
     "output_type": "stream",
     "text": [
      "2.0\n"
     ]
    }
   ],
   "source": [
    "eqn4 = (.3 + 5) // 2\n",
    "print(eqn4)"
   ]
  },
  {
   "cell_type": "markdown",
   "id": "b2a30ed1",
   "metadata": {},
   "source": [
    "<mark> Convert int  to a `float` </mark>"
   ]
  },
  {
   "cell_type": "code",
   "execution_count": 29,
   "id": "7dffd538",
   "metadata": {},
   "outputs": [],
   "source": [
    "a=1"
   ]
  },
  {
   "cell_type": "code",
   "execution_count": 30,
   "id": "987f4b87",
   "metadata": {},
   "outputs": [
    {
     "data": {
      "text/plain": [
       "int"
      ]
     },
     "execution_count": 30,
     "metadata": {},
     "output_type": "execute_result"
    }
   ],
   "source": [
    "type(a)"
   ]
  },
  {
   "cell_type": "code",
   "execution_count": null,
   "id": "a30213d5",
   "metadata": {},
   "outputs": [],
   "source": []
  },
  {
   "cell_type": "code",
   "execution_count": null,
   "id": "05d3365f",
   "metadata": {},
   "outputs": [],
   "source": []
  },
  {
   "cell_type": "markdown",
   "id": "ecb893fb",
   "metadata": {},
   "source": [
    "### Comparing numbers\n",
    "\n",
    "As important as being able to calculate something, is to be able to compare the result of several computations.  \n",
    "\n",
    "Most of the symbols used for comparison are quite standard and just what you would expect.  The exceptions are the symbols for 'different' and 'equal to'."
   ]
  },
  {
   "cell_type": "markdown",
   "id": "c994541e",
   "metadata": {},
   "source": [
    "!=\n",
    "==\n",
    "\n",
    "<=\n",
    ">=\n",
    "<\n",
    ">"
   ]
  },
  {
   "cell_type": "markdown",
   "id": "9b96a355",
   "metadata": {},
   "source": [
    "The $==$ allows us to check if one side of the operator is equal to the other side."
   ]
  },
  {
   "cell_type": "code",
   "execution_count": 34,
   "id": "abc39379",
   "metadata": {},
   "outputs": [
    {
     "data": {
      "text/plain": [
       "True"
      ]
     },
     "execution_count": 34,
     "metadata": {},
     "output_type": "execute_result"
    }
   ],
   "source": [
    "4==4"
   ]
  },
  {
   "cell_type": "code",
   "execution_count": 35,
   "id": "645e4378",
   "metadata": {},
   "outputs": [
    {
     "data": {
      "text/plain": [
       "False"
      ]
     },
     "execution_count": 35,
     "metadata": {},
     "output_type": "execute_result"
    }
   ],
   "source": [
    "4==3"
   ]
  },
  {
   "cell_type": "markdown",
   "id": "a427f221",
   "metadata": {},
   "source": [
    "Python evaluates the expression and tells us that it is `True` if it is correct or `False` if it is incorrect.\n",
    "\n",
    "The $!=$ operator allows us to check if one side does not equal the other side:"
   ]
  },
  {
   "cell_type": "code",
   "execution_count": 36,
   "id": "3b0e6437",
   "metadata": {},
   "outputs": [
    {
     "data": {
      "text/plain": [
       "True"
      ]
     },
     "execution_count": 36,
     "metadata": {},
     "output_type": "execute_result"
    }
   ],
   "source": [
    "4 != 2"
   ]
  },
  {
   "cell_type": "code",
   "execution_count": 37,
   "id": "7d7eed9d",
   "metadata": {},
   "outputs": [
    {
     "data": {
      "text/plain": [
       "False"
      ]
     },
     "execution_count": 37,
     "metadata": {},
     "output_type": "execute_result"
    }
   ],
   "source": [
    "4 != 4"
   ]
  },
  {
   "cell_type": "code",
   "execution_count": 38,
   "id": "e3f6daf0",
   "metadata": {},
   "outputs": [
    {
     "data": {
      "text/plain": [
       "True"
      ]
     },
     "execution_count": 38,
     "metadata": {},
     "output_type": "execute_result"
    }
   ],
   "source": [
    "4 > 2"
   ]
  },
  {
   "cell_type": "code",
   "execution_count": 39,
   "id": "01ca2821",
   "metadata": {},
   "outputs": [
    {
     "data": {
      "text/plain": [
       "False"
      ]
     },
     "execution_count": 39,
     "metadata": {},
     "output_type": "execute_result"
    }
   ],
   "source": [
    "4 > 4"
   ]
  },
  {
   "cell_type": "code",
   "execution_count": 40,
   "id": "8c55a0fd",
   "metadata": {},
   "outputs": [
    {
     "data": {
      "text/plain": [
       "True"
      ]
     },
     "execution_count": 40,
     "metadata": {},
     "output_type": "execute_result"
    }
   ],
   "source": [
    "4 >= 4"
   ]
  },
  {
   "cell_type": "markdown",
   "id": "36a50a5a",
   "metadata": {},
   "source": [
    "### Booleans\n",
    "\n",
    "A Python Boolean is what is math is called a **logical variable**. The name Boolean refers to **George Boole** who first defined an algebraic system of logic in the mid 19th century. The Boolean data type is primarily associated with conditional statements, which allow different actions and change control flow depending on whether a programmer-specified Boolean condition evaluates to `True` or `False`.\n",
    "\n",
    "With just these two variable values we can implement basic logic and check for truth in a programming language. Let's say that I have one puppy at home and his name is Frankenstein. I will say that the variable puppy is True."
   ]
  },
  {
   "cell_type": "code",
   "execution_count": 41,
   "id": "e934a9a3",
   "metadata": {},
   "outputs": [],
   "source": [
    "puppy = True"
   ]
  },
  {
   "cell_type": "code",
   "execution_count": 42,
   "id": "4631ddc0",
   "metadata": {},
   "outputs": [
    {
     "name": "stdout",
     "output_type": "stream",
     "text": [
      "True\n"
     ]
    }
   ],
   "source": [
    "print(puppy)"
   ]
  },
  {
   "cell_type": "code",
   "execution_count": 43,
   "id": "c6332f7f",
   "metadata": {},
   "outputs": [
    {
     "data": {
      "text/plain": [
       "bool"
      ]
     },
     "execution_count": 43,
     "metadata": {},
     "output_type": "execute_result"
    }
   ],
   "source": [
    "type(puppy)"
   ]
  },
  {
   "cell_type": "code",
   "execution_count": 47,
   "id": "439c9eba",
   "metadata": {},
   "outputs": [],
   "source": [
    "puppy, puppies = True, False"
   ]
  },
  {
   "cell_type": "markdown",
   "id": "e9c74889",
   "metadata": {},
   "source": [
    "We can see that when we print `puppy` it says `True` and that the type is `bool`. \n",
    "\n",
    "Since I only have one puppy, I'm going to say that `puppies` is `False`."
   ]
  },
  {
   "cell_type": "markdown",
   "id": "94b02db1",
   "metadata": {},
   "source": [
    "We'll see here that each of those variables has its own value."
   ]
  },
  {
   "cell_type": "code",
   "execution_count": 48,
   "id": "c5219026",
   "metadata": {},
   "outputs": [
    {
     "name": "stdout",
     "output_type": "stream",
     "text": [
      "Do I have a puppy? True\n",
      "Do I have puppies? False\n"
     ]
    }
   ],
   "source": [
    "print(\"Do I have a puppy?\", puppy)\n",
    "print(\"Do I have puppies?\", puppies)"
   ]
  },
  {
   "cell_type": "markdown",
   "id": "bfa70676",
   "metadata": {},
   "source": [
    "To implement logic we have three basic operations: `and`, `not`, and `or`.\n",
    "\n",
    "These can be used to create the most basic statements. Here's how they work.\n",
    "\n",
    "If I use the `and` operator, then both sides of the `and` expression need to be True for the expression to be true."
   ]
  },
  {
   "cell_type": "code",
   "execution_count": 50,
   "id": "261a3ded",
   "metadata": {},
   "outputs": [
    {
     "data": {
      "text/plain": [
       "True"
      ]
     },
     "execution_count": 50,
     "metadata": {},
     "output_type": "execute_result"
    }
   ],
   "source": [
    "True and True"
   ]
  },
  {
   "cell_type": "code",
   "execution_count": 51,
   "id": "c8aff8e1",
   "metadata": {},
   "outputs": [
    {
     "data": {
      "text/plain": [
       "False"
      ]
     },
     "execution_count": 51,
     "metadata": {},
     "output_type": "execute_result"
    }
   ],
   "source": [
    "True and False"
   ]
  },
  {
   "cell_type": "code",
   "execution_count": 52,
   "id": "2c9af7f6",
   "metadata": {},
   "outputs": [
    {
     "data": {
      "text/plain": [
       "False"
      ]
     },
     "execution_count": 52,
     "metadata": {},
     "output_type": "execute_result"
    }
   ],
   "source": [
    "puppy and puppies"
   ]
  },
  {
   "cell_type": "code",
   "execution_count": 53,
   "id": "e50b31e7",
   "metadata": {},
   "outputs": [
    {
     "data": {
      "text/plain": [
       "True"
      ]
     },
     "execution_count": 53,
     "metadata": {},
     "output_type": "execute_result"
    }
   ],
   "source": [
    "not puppies"
   ]
  },
  {
   "cell_type": "code",
   "execution_count": 54,
   "id": "d9065f2d",
   "metadata": {},
   "outputs": [
    {
     "data": {
      "text/plain": [
       "False"
      ]
     },
     "execution_count": 54,
     "metadata": {},
     "output_type": "execute_result"
    }
   ],
   "source": [
    "not puppy"
   ]
  },
  {
   "cell_type": "code",
   "execution_count": 55,
   "id": "cfac6e1d",
   "metadata": {},
   "outputs": [
    {
     "data": {
      "text/plain": [
       "True"
      ]
     },
     "execution_count": 55,
     "metadata": {},
     "output_type": "execute_result"
    }
   ],
   "source": [
    "puppy and not puppies"
   ]
  },
  {
   "cell_type": "code",
   "execution_count": 56,
   "id": "80b471f3",
   "metadata": {},
   "outputs": [
    {
     "data": {
      "text/plain": [
       "True"
      ]
     },
     "execution_count": 56,
     "metadata": {},
     "output_type": "execute_result"
    }
   ],
   "source": [
    "puppy or puppies"
   ]
  },
  {
   "cell_type": "code",
   "execution_count": 57,
   "id": "684ce9f0",
   "metadata": {},
   "outputs": [
    {
     "data": {
      "text/plain": [
       "False"
      ]
     },
     "execution_count": 57,
     "metadata": {},
     "output_type": "execute_result"
    }
   ],
   "source": [
    "False or False"
   ]
  },
  {
   "cell_type": "markdown",
   "id": "541a429a",
   "metadata": {},
   "source": [
    "### Strings\n",
    "\n",
    "A Python string is an **ordered sequence of characters**. Python strings are very powerful and enable us to deal with text even if there is a lot of it and even if we don't know its structure.\n",
    "\n",
    "To start off let's make some variables."
   ]
  },
  {
   "cell_type": "code",
   "execution_count": 3,
   "id": "cb37de58",
   "metadata": {},
   "outputs": [
    {
     "name": "stdout",
     "output_type": "stream",
     "text": [
      "hello\n"
     ]
    }
   ],
   "source": [
    "hello = 'hello'\n",
    "\n",
    "print( hello )"
   ]
  },
  {
   "cell_type": "code",
   "execution_count": 60,
   "id": "010fd617",
   "metadata": {},
   "outputs": [],
   "source": [
    "a=\"hello\""
   ]
  },
  {
   "cell_type": "code",
   "execution_count": 61,
   "id": "6fb10a42",
   "metadata": {},
   "outputs": [
    {
     "name": "stdout",
     "output_type": "stream",
     "text": [
      "hello\n"
     ]
    }
   ],
   "source": [
    "print(a)"
   ]
  },
  {
   "cell_type": "markdown",
   "id": "0d4487ad",
   "metadata": {},
   "source": [
    "You can use basic math operators to add strings together and make a longer string."
   ]
  },
  {
   "cell_type": "code",
   "execution_count": 64,
   "id": "b2908e2e",
   "metadata": {},
   "outputs": [
    {
     "name": "stdout",
     "output_type": "stream",
     "text": [
      "abc and xyz\n"
     ]
    }
   ],
   "source": [
    "print(\"abc\" + \" and \" + \"xyz\")"
   ]
  },
  {
   "cell_type": "markdown",
   "id": "80110e18",
   "metadata": {},
   "source": [
    "You can even just multiply a string to make it longer. Can you say gyros seven times fast?"
   ]
  },
  {
   "cell_type": "code",
   "execution_count": 63,
   "id": "1f51b2a8",
   "metadata": {},
   "outputs": [
    {
     "data": {
      "text/plain": [
       "'abc abc abc abc abc abc abc '"
      ]
     },
     "execution_count": 63,
     "metadata": {},
     "output_type": "execute_result"
    }
   ],
   "source": [
    "\"abc \" * 7"
   ]
  },
  {
   "cell_type": "code",
   "execution_count": 65,
   "id": "4f3b3e26",
   "metadata": {},
   "outputs": [
    {
     "ename": "TypeError",
     "evalue": "unsupported operand type(s) for /: 'str' and 'str'",
     "output_type": "error",
     "traceback": [
      "\u001b[1;31m---------------------------------------------------------------------------\u001b[0m",
      "\u001b[1;31mTypeError\u001b[0m                                 Traceback (most recent call last)",
      "\u001b[1;32m~\\AppData\\Local\\Temp/ipykernel_21248/3010574313.py\u001b[0m in \u001b[0;36m<module>\u001b[1;34m\u001b[0m\n\u001b[1;32m----> 1\u001b[1;33m \u001b[1;34m\"gyros\"\u001b[0m\u001b[1;33m/\u001b[0m\u001b[1;34m\"falafel\"\u001b[0m\u001b[1;33m\u001b[0m\u001b[1;33m\u001b[0m\u001b[0m\n\u001b[0m",
      "\u001b[1;31mTypeError\u001b[0m: unsupported operand type(s) for /: 'str' and 'str'"
     ]
    }
   ],
   "source": [
    "\"gyros\"/\"falafel\""
   ]
  },
  {
   "cell_type": "code",
   "execution_count": 66,
   "id": "1d215be7",
   "metadata": {},
   "outputs": [
    {
     "ename": "TypeError",
     "evalue": "unsupported operand type(s) for -: 'str' and 'str'",
     "output_type": "error",
     "traceback": [
      "\u001b[1;31m---------------------------------------------------------------------------\u001b[0m",
      "\u001b[1;31mTypeError\u001b[0m                                 Traceback (most recent call last)",
      "\u001b[1;32m~\\AppData\\Local\\Temp/ipykernel_21248/2413768222.py\u001b[0m in \u001b[0;36m<module>\u001b[1;34m\u001b[0m\n\u001b[1;32m----> 1\u001b[1;33m \u001b[1;34m\"gyros\"\u001b[0m \u001b[1;33m-\u001b[0m \u001b[1;34m\"falafel\"\u001b[0m\u001b[1;33m\u001b[0m\u001b[1;33m\u001b[0m\u001b[0m\n\u001b[0m",
      "\u001b[1;31mTypeError\u001b[0m: unsupported operand type(s) for -: 'str' and 'str'"
     ]
    }
   ],
   "source": [
    "\"gyros\" - \"falafel\""
   ]
  },
  {
   "cell_type": "markdown",
   "id": "688abb63",
   "metadata": {},
   "source": [
    "We can add strings and variables that have string values together to create a longer string, then assign that longer string to a variable."
   ]
  },
  {
   "cell_type": "code",
   "execution_count": 4,
   "id": "3b914501",
   "metadata": {},
   "outputs": [],
   "source": [
    "food=\"Burger\""
   ]
  },
  {
   "cell_type": "code",
   "execution_count": 5,
   "id": "08f4a848",
   "metadata": {},
   "outputs": [
    {
     "name": "stdout",
     "output_type": "stream",
     "text": [
      "hello, I would like a Burger\n"
     ]
    }
   ],
   "source": [
    "order = hello + ', I would like a ' + food\n",
    "\n",
    "print(order)"
   ]
  },
  {
   "cell_type": "markdown",
   "id": "8f7c228d",
   "metadata": {},
   "source": [
    "Hmmm, well it is correct as a sentence but we forgot to capitalize `hello`! \n",
    "\n",
    "Keep in mind that after a lifetime of reading it is a lot easier for us to see and recognize correct strings than it is to tell the computer to recognize them. \n",
    "\n",
    "Fortunately, string variables have some **built-in methods** that we use on the variables to help with these situations."
   ]
  },
  {
   "cell_type": "code",
   "execution_count": 6,
   "id": "6194b23f",
   "metadata": {},
   "outputs": [
    {
     "data": {
      "text/plain": [
       "'Hello, i would like a burger'"
      ]
     },
     "execution_count": 6,
     "metadata": {},
     "output_type": "execute_result"
    }
   ],
   "source": [
    "order.capitalize()"
   ]
  },
  {
   "cell_type": "markdown",
   "id": "c7df2363",
   "metadata": {},
   "source": [
    "BAM! \n",
    "\n",
    "By using the capitalize() method on the order variable, you got the capitalized `hello`. \n",
    "\n",
    "An important thing to note, though, is that while that cell printed the string with `Hello`, **it didn't actually change the variable**."
   ]
  },
  {
   "cell_type": "code",
   "execution_count": 7,
   "id": "bd4d75c9",
   "metadata": {},
   "outputs": [
    {
     "data": {
      "text/plain": [
       "'hello, I would like a Burger'"
      ]
     },
     "execution_count": 7,
     "metadata": {},
     "output_type": "execute_result"
    }
   ],
   "source": [
    "order"
   ]
  },
  {
   "cell_type": "code",
   "execution_count": 8,
   "id": "7dbde430",
   "metadata": {},
   "outputs": [
    {
     "data": {
      "text/plain": [
       "'Hello, i would like a burger'"
      ]
     },
     "execution_count": 8,
     "metadata": {},
     "output_type": "execute_result"
    }
   ],
   "source": [
    "order = order.capitalize()\n",
    "\n",
    "order"
   ]
  },
  {
   "cell_type": "markdown",
   "id": "ca508eab",
   "metadata": {},
   "source": [
    "There are three other functions that perform actions like `capitalize()`, and those are:\n",
    "\n",
    "* `lower()`, makes the entire string lowercase\n",
    "* `upper()`, makes the entire string uppercase\n",
    "* `title()`, capitalizes every word in a string"
   ]
  },
  {
   "cell_type": "code",
   "execution_count": 9,
   "id": "20ef3c7e",
   "metadata": {},
   "outputs": [
    {
     "data": {
      "text/plain": [
       "'Hello, I Would Like A Burger'"
      ]
     },
     "execution_count": 9,
     "metadata": {},
     "output_type": "execute_result"
    }
   ],
   "source": [
    "order.title()"
   ]
  },
  {
   "cell_type": "markdown",
   "id": "5065afd3",
   "metadata": {},
   "source": [
    "But you'll notice that I screwed up a little bit by setting `order` to the capitalized version of itself (the grammar nazis reading along have probably been going crazy all this time!). When we capitalized the string, we lost the capitalized `i`! Python is pretty smart, but it only does exactly what we tell it to do and the `capitalize()` function only capitalizes the first letter in a string.\n",
    "\n",
    "The simplest remedy would be to go back and recreate the order variable."
   ]
  },
  {
   "cell_type": "code",
   "execution_count": 10,
   "id": "a3866420",
   "metadata": {},
   "outputs": [
    {
     "data": {
      "text/plain": [
       "'Hello, I would like a Burger'"
      ]
     },
     "execution_count": 10,
     "metadata": {},
     "output_type": "execute_result"
    }
   ],
   "source": [
    "order = hello.capitalize() + ', I would like a ' + food\n",
    "\n",
    "order"
   ]
  },
  {
   "cell_type": "markdown",
   "id": "49e159bf",
   "metadata": {},
   "source": [
    "We could do this programmatically by using some of the other built-in functions.\n",
    "\n",
    "One way would be to `strip` away the `Hello,` at the start. Python has a `strip` method that strips away characters from the right side as well as `lstrip` which strips away characters starting from the left."
   ]
  },
  {
   "cell_type": "code",
   "execution_count": 11,
   "id": "5529c723",
   "metadata": {},
   "outputs": [
    {
     "data": {
      "text/plain": [
       "' I would like a Burger'"
      ]
     },
     "execution_count": 11,
     "metadata": {},
     "output_type": "execute_result"
    }
   ],
   "source": [
    "order.lstrip('Helo,')"
   ]
  },
  {
   "cell_type": "markdown",
   "id": "b8d0bc17",
   "metadata": {},
   "source": [
    "Notice that I didn't need to put in `l` twice? That's because I just put in all of the individual characters I want stripped and Python goes and removes **any and all** instances of those characters until it encounters a character that I did not tell it to strip. We can test that by adding an `I` as the next character that we see, but not the space which comes before it."
   ]
  },
  {
   "cell_type": "code",
   "execution_count": 12,
   "id": "107d0940",
   "metadata": {},
   "outputs": [
    {
     "data": {
      "text/plain": [
       "' I would like a Burger'"
      ]
     },
     "execution_count": 12,
     "metadata": {},
     "output_type": "execute_result"
    }
   ],
   "source": [
    "order.lstrip('Helo,I')"
   ]
  },
  {
   "cell_type": "markdown",
   "id": "93f2aea2",
   "metadata": {},
   "source": [
    "Same result! This is a handy way of thinking, we just want to strip away the parts we don't want until we get to what we do want.\n",
    "\n",
    "We can also check the contents of a string using built-in methods. For example, we can make sure that all of the characters are alphabetical."
   ]
  },
  {
   "cell_type": "code",
   "execution_count": 13,
   "id": "2e6b6081",
   "metadata": {},
   "outputs": [
    {
     "data": {
      "text/plain": [
       "True"
      ]
     },
     "execution_count": 13,
     "metadata": {},
     "output_type": "execute_result"
    }
   ],
   "source": [
    "hello.isalpha()"
   ]
  },
  {
   "cell_type": "markdown",
   "id": "d61179eb",
   "metadata": {},
   "source": [
    "This is handy because we can have numbers that are a string"
   ]
  },
  {
   "cell_type": "code",
   "execution_count": 14,
   "id": "8b9ca9ee",
   "metadata": {},
   "outputs": [
    {
     "ename": "NameError",
     "evalue": "name 'int' is not defined",
     "output_type": "error",
     "traceback": [
      "\u001b[1;31m---------------------------------------------------------------------------\u001b[0m",
      "\u001b[1;31mNameError\u001b[0m                                 Traceback (most recent call last)",
      "\u001b[1;32m~\\AppData\\Local\\Temp/ipykernel_28032/1326110142.py\u001b[0m in \u001b[0;36m<module>\u001b[1;34m\u001b[0m\n\u001b[1;32m----> 1\u001b[1;33m \u001b[1;32mdel\u001b[0m \u001b[0mint\u001b[0m\u001b[1;33m\u001b[0m\u001b[1;33m\u001b[0m\u001b[0m\n\u001b[0m\u001b[0;32m      2\u001b[0m \u001b[0mreal_number\u001b[0m \u001b[1;33m=\u001b[0m \u001b[0mint\u001b[0m\u001b[1;33m(\u001b[0m\u001b[1;34m'4'\u001b[0m\u001b[1;33m)\u001b[0m\u001b[1;33m\u001b[0m\u001b[1;33m\u001b[0m\u001b[0m\n\u001b[0;32m      3\u001b[0m \u001b[1;33m\u001b[0m\u001b[0m\n\u001b[0;32m      4\u001b[0m \u001b[0mprint\u001b[0m\u001b[1;33m(\u001b[0m \u001b[0mreal_number\u001b[0m \u001b[1;33m)\u001b[0m\u001b[1;33m\u001b[0m\u001b[1;33m\u001b[0m\u001b[0m\n\u001b[0;32m      5\u001b[0m \u001b[0mprint\u001b[0m\u001b[1;33m(\u001b[0m \u001b[0mtype\u001b[0m\u001b[1;33m(\u001b[0m\u001b[0mreal_number\u001b[0m\u001b[1;33m)\u001b[0m \u001b[1;33m)\u001b[0m\u001b[1;33m\u001b[0m\u001b[1;33m\u001b[0m\u001b[0m\n",
      "\u001b[1;31mNameError\u001b[0m: name 'int' is not defined"
     ]
    }
   ],
   "source": [
    "del int\n",
    "real_number = int('4')\n",
    "\n",
    "print( real_number )\n",
    "print( type(real_number) )"
   ]
  },
  {
   "cell_type": "markdown",
   "id": "54efb35e",
   "metadata": {},
   "source": [
    "We can do the same thing for floats, too."
   ]
  },
  {
   "cell_type": "markdown",
   "id": "28a16454",
   "metadata": {},
   "source": [
    "However, we cannot do that with anything that has alphabetical characters."
   ]
  },
  {
   "cell_type": "code",
   "execution_count": 15,
   "id": "0893663d",
   "metadata": {},
   "outputs": [
    {
     "data": {
      "text/plain": [
       "8.4"
      ]
     },
     "execution_count": 15,
     "metadata": {},
     "output_type": "execute_result"
    }
   ],
   "source": [
    "float('4.2') * 2"
   ]
  },
  {
   "cell_type": "markdown",
   "id": "33c78daf",
   "metadata": {},
   "source": [
    "### Strings are actually collections!\n",
    "\n",
    "Strings are collections of characters.  Because they are collections, you are able to access its elements individually or in groups. \n",
    "\n",
    "Accessing a single element of the string is called **indexing**. \n",
    "\n",
    "**To index a single element, you add `[ ]` after the variable name** and tell it the numerical index of the element you want to access."
   ]
  },
  {
   "cell_type": "code",
   "execution_count": 19,
   "id": "03c7fc4a",
   "metadata": {},
   "outputs": [
    {
     "name": "stdout",
     "output_type": "stream",
     "text": [
      "Burger\n"
     ]
    }
   ],
   "source": [
    "print(food)"
   ]
  },
  {
   "cell_type": "code",
   "execution_count": 16,
   "id": "87cfa79a",
   "metadata": {},
   "outputs": [
    {
     "data": {
      "text/plain": [
       "'B'"
      ]
     },
     "execution_count": 16,
     "metadata": {},
     "output_type": "execute_result"
    }
   ],
   "source": [
    "food[0]"
   ]
  },
  {
   "cell_type": "code",
   "execution_count": 18,
   "id": "8136e3bd",
   "metadata": {},
   "outputs": [
    {
     "data": {
      "text/plain": [
       "'u'"
      ]
     },
     "execution_count": 18,
     "metadata": {},
     "output_type": "execute_result"
    }
   ],
   "source": [
    "food[1]"
   ]
  },
  {
   "cell_type": "code",
   "execution_count": 20,
   "id": "e1234907",
   "metadata": {},
   "outputs": [
    {
     "data": {
      "text/plain": [
       "'r'"
      ]
     },
     "execution_count": 20,
     "metadata": {},
     "output_type": "execute_result"
    }
   ],
   "source": [
    "food[-1]"
   ]
  },
  {
   "cell_type": "markdown",
   "id": "cd028234",
   "metadata": {},
   "source": [
    "### Slicing a string\n",
    "\n",
    "What if we wanted to get out more than one element from a string? We can do that too, it's called slicing.\n",
    "\n",
    "The syntax for slicing is deceptively simple, the full syntax is:\n",
    "\n",
    "`variable[start_index : stop_index : step]`\n",
    "\n",
    "You'll see that all of the inputs go within the `[]` and the `:` separates each input. \n",
    "\n",
    "The `start_index` tells python which index we want to start getting elements from.\n",
    "\n",
    "The `stop_index` tells python which index we want elements **up to but not including**\n",
    "\n",
    "The `step` tells python how many steps to take between elements within the range. This means that you don't need to take every element. You could take **every other** element. To do that you just specify a `step` of `2`.\n"
   ]
  },
  {
   "cell_type": "code",
   "execution_count": 21,
   "id": "09f83b40",
   "metadata": {},
   "outputs": [
    {
     "data": {
      "text/plain": [
       "'Bu'"
      ]
     },
     "execution_count": 21,
     "metadata": {},
     "output_type": "execute_result"
    }
   ],
   "source": [
    "food[0:2]"
   ]
  },
  {
   "cell_type": "code",
   "execution_count": 22,
   "id": "f2a90cdc",
   "metadata": {},
   "outputs": [
    {
     "data": {
      "text/plain": [
       "'Br'"
      ]
     },
     "execution_count": 22,
     "metadata": {},
     "output_type": "execute_result"
    }
   ],
   "source": [
    "food[0 : 4 : 2]"
   ]
  },
  {
   "cell_type": "code",
   "execution_count": null,
   "id": "41898d30",
   "metadata": {},
   "outputs": [],
   "source": [
    "food[2:5]"
   ]
  },
  {
   "cell_type": "markdown",
   "id": "a393ed97",
   "metadata": {},
   "source": [
    "Because some types of slicing are used more frequently than others, Python assumes that if you leave an option empty that you are making the default selection. The defaults for slicing are:\n",
    "\n",
    "* `start_index` is set to `0`\n",
    "* `stop_index` is set to `-1` (notice that this will always be the last character no matter how long the string is)\n",
    "* `step` is set to  `1`"
   ]
  },
  {
   "cell_type": "markdown",
   "id": "82579d97",
   "metadata": {},
   "source": [
    "### Location and Counting"
   ]
  },
  {
   "cell_type": "code",
   "execution_count": 25,
   "id": "4706b5bd",
   "metadata": {},
   "outputs": [
    {
     "data": {
      "text/plain": [
       "1"
      ]
     },
     "execution_count": 25,
     "metadata": {},
     "output_type": "execute_result"
    }
   ],
   "source": [
    "food.count(\"u\")"
   ]
  },
  {
   "cell_type": "code",
   "execution_count": 26,
   "id": "07fbf5f6",
   "metadata": {},
   "outputs": [
    {
     "data": {
      "text/plain": [
       "0"
      ]
     },
     "execution_count": 26,
     "metadata": {},
     "output_type": "execute_result"
    }
   ],
   "source": [
    "food.count(\"o\")"
   ]
  },
  {
   "cell_type": "code",
   "execution_count": 28,
   "id": "a1a6bf9d",
   "metadata": {},
   "outputs": [
    {
     "data": {
      "text/plain": [
       "1"
      ]
     },
     "execution_count": 28,
     "metadata": {},
     "output_type": "execute_result"
    }
   ],
   "source": [
    "food.find(\"u\")"
   ]
  },
  {
   "cell_type": "markdown",
   "id": "19036073",
   "metadata": {},
   "source": [
    "<mark> I have a string called pet_shop that has all of the different pet varieties in a store. </mark>"
   ]
  },
  {
   "cell_type": "code",
   "execution_count": 31,
   "id": "91ddbbd9",
   "metadata": {},
   "outputs": [],
   "source": [
    "pet_shop = 'dog cat hedgehog fish bird'"
   ]
  },
  {
   "cell_type": "markdown",
   "id": "3f8c0227",
   "metadata": {},
   "source": [
    "<mark>  Capitalize all of the different pet types in a single line </mark>"
   ]
  },
  {
   "cell_type": "code",
   "execution_count": 34,
   "id": "741bc33a",
   "metadata": {},
   "outputs": [
    {
     "data": {
      "text/plain": [
       "'Dog Cat Hedgehog Fish Bird'"
      ]
     },
     "execution_count": 34,
     "metadata": {},
     "output_type": "execute_result"
    }
   ],
   "source": [
    "pet_shop.title()"
   ]
  },
  {
   "cell_type": "markdown",
   "id": "3fe02393",
   "metadata": {},
   "source": [
    "<mark> Print out a single `g` from `pet_shop` </mark>"
   ]
  },
  {
   "cell_type": "code",
   "execution_count": 36,
   "id": "2e1848c9",
   "metadata": {},
   "outputs": [
    {
     "data": {
      "text/plain": [
       "'g'"
      ]
     },
     "execution_count": 36,
     "metadata": {},
     "output_type": "execute_result"
    }
   ],
   "source": [
    "pet_shop[2]"
   ]
  },
  {
   "cell_type": "markdown",
   "id": "6bb878a3",
   "metadata": {},
   "source": [
    "<mark> Print out just `hedgehog` </mark>"
   ]
  },
  {
   "cell_type": "code",
   "execution_count": 38,
   "id": "f5896f15",
   "metadata": {},
   "outputs": [
    {
     "data": {
      "text/plain": [
       "'hedgehog'"
      ]
     },
     "execution_count": 38,
     "metadata": {},
     "output_type": "execute_result"
    }
   ],
   "source": [
    "pet_shop[8:16]"
   ]
  },
  {
   "cell_type": "markdown",
   "id": "2f8e7600",
   "metadata": {},
   "source": [
    "<mark> I have two variables, dogs and cats: </mark>"
   ]
  },
  {
   "cell_type": "code",
   "execution_count": 41,
   "id": "9dff432e",
   "metadata": {},
   "outputs": [],
   "source": [
    "dogs, cats = '8', '4'"
   ]
  },
  {
   "cell_type": "markdown",
   "id": "3ad15b19",
   "metadata": {},
   "source": [
    "that tell me how many `dogs` and `cats` I have at the store. Using these two variables, calculate how many more dogs I have than cats"
   ]
  },
  {
   "cell_type": "code",
   "execution_count": 42,
   "id": "760f79ba",
   "metadata": {},
   "outputs": [
    {
     "name": "stdout",
     "output_type": "stream",
     "text": [
      "I have 8 dogs and 4 cats.\n",
      "I have 4 dogs more than cats.\n"
     ]
    }
   ],
   "source": [
    "print(\"I have\", dogs, \"dogs and\", cats, \"cats.\")\n",
    "print(\"I have\", int(dogs)-int(cats), \"dogs more than cats.\")"
   ]
  },
  {
   "cell_type": "code",
   "execution_count": 43,
   "id": "47d59f26",
   "metadata": {},
   "outputs": [
    {
     "name": "stdout",
     "output_type": "stream",
     "text": [
      " Bravo! Exercises completed!\n"
     ]
    }
   ],
   "source": [
    "print(\" Bravo! Exercises completed!\")"
   ]
  },
  {
   "cell_type": "code",
   "execution_count": null,
   "id": "fbeae74b",
   "metadata": {},
   "outputs": [],
   "source": []
  }
 ],
 "metadata": {
  "kernelspec": {
   "display_name": "Python 3 (ipykernel)",
   "language": "python",
   "name": "python3"
  },
  "language_info": {
   "codemirror_mode": {
    "name": "ipython",
    "version": 3
   },
   "file_extension": ".py",
   "mimetype": "text/x-python",
   "name": "python",
   "nbconvert_exporter": "python",
   "pygments_lexer": "ipython3",
   "version": "3.9.7"
  }
 },
 "nbformat": 4,
 "nbformat_minor": 5
}
