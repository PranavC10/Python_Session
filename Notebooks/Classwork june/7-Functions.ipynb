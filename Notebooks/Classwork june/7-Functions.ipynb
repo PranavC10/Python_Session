{
 "cells": [
  {
   "cell_type": "markdown",
   "metadata": {
    "colab_type": "text",
    "id": "mKbPTYjqHVv1"
   },
   "source": [
    "# Synopsis\n",
    "\n",
    "In this unit we will learn that:\n",
    "\n",
    "1. **Modular** code is more readable, easier to maintain, and less prone to the creeping in of bugs.\n",
    "\n",
    "2. **Re-factoring** of code, that is, the re-writing and re-organizing of code, is a critical part of developing modular code.\n",
    "\n",
    "3. Functions are the underpins of modular code. They enable a programmer to avoid repeating lines of code across a project.\n",
    "\n",
    "    1. Descriptive function names increase code readability.\n",
    "    \n",
    "    2. Appropriate documentation of a function makes it easier to avoid logical errors.\n",
    "    "
   ]
  },
  {
   "cell_type": "code",
   "execution_count": null,
   "metadata": {
    "colab": {},
    "colab_type": "code",
    "id": "hYi-QdfZsjQk"
   },
   "outputs": [],
   "source": [
    "#first time you create your wheel\n",
    "#use a `hard rock` to make your wheel! This makes sense because it is the first time you have created the wheel!\n",
    "\n",
    "# The time you want to make the wheel again! You may then use another material to replicate the wheel creation process!\n",
    "#e.g you can then use rubber!, but that is before you have create template!"
   ]
  },
  {
   "cell_type": "markdown",
   "metadata": {
    "colab_type": "text",
    "id": "Jv3fbhX7HVv3"
   },
   "source": [
    "# Functions\n",
    "\n",
    "**Writing modular code is good!**\n",
    "\n",
    "**Functions** are the workhorses of modular programming in Python! So, what's a function?\n",
    "\n",
    "You were actually exposed to functions when you filled in your answers to the homework questions **inside** of a function structure. So whenever you see this syntax:\n",
    "\n",
    ">    def function_name():\n",
    ">\n",
    ">        statements\n",
    ">\n",
    ">        return something\n",
    "        \n",
    "that block of code is a function. \n",
    "\n",
    "Functions help us avoid repeating the same set of statements everytime we want to repeat a task. Functions increase code readibility. Functions make code revision and updating easier (you do not have to re-do revisions in all the places of your code where the task is needed. Functions make testing of your code easier and more reliable.\n",
    "\n",
    "In order to execute the code in a function, you use the syntax `function_name()`. If you do not \"call\" your function in your code, then it is never executed.  However, the Python interpreter will still check its code for synthax errors.\n"
   ]
  },
  {
   "cell_type": "code",
   "execution_count": 1,
   "metadata": {
    "colab": {},
    "colab_type": "code",
    "id": "WLn81IvXHVv4"
   },
   "outputs": [],
   "source": [
    "# Let's write a really simple function -- a function that \"says hello\".\n",
    "\n",
    "# FUNCTION DEFINITION\n"
   ]
  },
  {
   "cell_type": "markdown",
   "metadata": {
    "colab_type": "text",
    "id": "-uRWRSqtHVv7"
   },
   "source": [
    "You just wrote a simple function! Notice that after writing it nothing was printed. That is because you didn't *call* the function, You only defined it so Python will know what on earth you're talking about should you so choose to write `says_hello` anywhere.\n",
    "\n",
    "You *call* a function just by writing its name along with the parentheses:"
   ]
  },
  {
   "cell_type": "code",
   "execution_count": 2,
   "metadata": {
    "colab": {
     "base_uri": "https://localhost:8080/",
     "height": 52
    },
    "colab_type": "code",
    "executionInfo": {
     "elapsed": 835,
     "status": "ok",
     "timestamp": 1590827601761,
     "user": {
      "displayName": "Desmond Sek",
      "photoUrl": "https://lh3.googleusercontent.com/a-/AOh14GjQj9ANFvLsRLkJAoNiRe9I6br32aYvAs1rqTwiF6M=s64",
      "userId": "15004601375355093954"
     },
     "user_tz": -480
    },
    "id": "pwOMMvpEHVv8",
    "outputId": "aa68ee24-1e29-499f-f91d-ce94229cd5ae"
   },
   "outputs": [],
   "source": [
    "# FUNCTION CALL\n"
   ]
  },
  {
   "cell_type": "code",
   "execution_count": null,
   "metadata": {
    "colab": {
     "base_uri": "https://localhost:8080/",
     "height": 35
    },
    "colab_type": "code",
    "executionInfo": {
     "elapsed": 802,
     "status": "ok",
     "timestamp": 1590827627586,
     "user": {
      "displayName": "Desmond Sek",
      "photoUrl": "https://lh3.googleusercontent.com/a-/AOh14GjQj9ANFvLsRLkJAoNiRe9I6br32aYvAs1rqTwiF6M=s64",
      "userId": "15004601375355093954"
     },
     "user_tz": -480
    },
    "id": "KN9fi5idHVwC",
    "outputId": "0140d0ce-a530-410e-f0c9-b149214834c0"
   },
   "outputs": [],
   "source": []
  },
  {
   "cell_type": "markdown",
   "metadata": {
    "colab_type": "text",
    "id": "8RWXFYOwHVwE"
   },
   "source": [
    "`print` is a **built-in** function. Given whatever input you pass it, the `print()` function prints that input to the screen. What happens if you do not provide an input?"
   ]
  },
  {
   "cell_type": "code",
   "execution_count": null,
   "metadata": {
    "colab": {},
    "colab_type": "code",
    "id": "tRPJYFlUHVwJ"
   },
   "outputs": [],
   "source": [
    "# Function Definition\n",
    "def say_anything_twice(anything1, anything2):  #arguments, parameters\n",
    "    anything_twice = anything1 * anything2\n",
    "    return anything_twice #returning the result back"
   ]
  },
  {
   "cell_type": "code",
   "execution_count": null,
   "metadata": {
    "colab": {
     "base_uri": "https://localhost:8080/",
     "height": 35
    },
    "colab_type": "code",
    "executionInfo": {
     "elapsed": 1184,
     "status": "ok",
     "timestamp": 1590827854168,
     "user": {
      "displayName": "Desmond Sek",
      "photoUrl": "https://lh3.googleusercontent.com/a-/AOh14GjQj9ANFvLsRLkJAoNiRe9I6br32aYvAs1rqTwiF6M=s64",
      "userId": "15004601375355093954"
     },
     "user_tz": -480
    },
    "id": "oppwbHDoHVwO",
    "outputId": "58699856-71ca-401b-9c19-bcc110df7267"
   },
   "outputs": [
    {
     "data": {
      "text/plain": [
       "50"
      ]
     },
     "execution_count": 5,
     "metadata": {
      "tags": []
     },
     "output_type": "execute_result"
    }
   ],
   "source": [
    "# Function Call\n",
    "say_anything_twice(10,5)"
   ]
  },
  {
   "cell_type": "code",
   "execution_count": null,
   "metadata": {
    "colab": {
     "base_uri": "https://localhost:8080/",
     "height": 52
    },
    "colab_type": "code",
    "executionInfo": {
     "elapsed": 593,
     "status": "ok",
     "timestamp": 1590827862009,
     "user": {
      "displayName": "Desmond Sek",
      "photoUrl": "https://lh3.googleusercontent.com/a-/AOh14GjQj9ANFvLsRLkJAoNiRe9I6br32aYvAs1rqTwiF6M=s64",
      "userId": "15004601375355093954"
     },
     "user_tz": -480
    },
    "id": "ZEOlwav_HVwT",
    "outputId": "b4705b62-5542-4d16-f13d-1113f2c8ef77"
   },
   "outputs": [
    {
     "name": "stdout",
     "output_type": "stream",
     "text": [
      "hihi\n",
      "30.25\n"
     ]
    }
   ],
   "source": [
    "print( say_anything_twice('hi',2) )\n",
    "print(say_anything_twice(5.5,5.5))"
   ]
  },
  {
   "cell_type": "markdown",
   "metadata": {
    "colab_type": "text",
    "id": "uUCwO5tPHVwS"
   },
   "source": [
    "**What's actually going on here?** \n",
    "\n",
    "The function took the string 'hello' as an input and assigned it **internally** to the variable `anything`. It then performed an operation on `anything` (in this case it multiplied it by 2) and assigned that value to a new variable called `anything_twice`. Finally, it **returned** `anything_twice`:\n",
    "    \n",
    ">    return anything_twice\n",
    "\n",
    "This statement returns the result of the functions operations to the place in the your code where the functions was called.\n",
    "\n",
    "The beauty of funtions, though not of this particular function which pretty much executes a single statement, is that we can call it on any string input without having to re-write a lot of code."
   ]
  },
  {
   "cell_type": "markdown",
   "metadata": {
    "colab_type": "text",
    "id": "GtWqXlQSabVv"
   },
   "source": [
    "### **Functions are first class citizens in python!**"
   ]
  },
  {
   "cell_type": "code",
   "execution_count": null,
   "metadata": {
    "colab": {
     "base_uri": "https://localhost:8080/",
     "height": 35
    },
    "colab_type": "code",
    "executionInfo": {
     "elapsed": 634,
     "status": "ok",
     "timestamp": 1590828096685,
     "user": {
      "displayName": "Desmond Sek",
      "photoUrl": "https://lh3.googleusercontent.com/a-/AOh14GjQj9ANFvLsRLkJAoNiRe9I6br32aYvAs1rqTwiF6M=s64",
      "userId": "15004601375355093954"
     },
     "user_tz": -480
    },
    "id": "oQXDl_OaaiGa",
    "outputId": "bd1cd6a8-ebb0-409a-f789-e35824fa0b1c"
   },
   "outputs": [
    {
     "data": {
      "text/plain": [
       "200"
      ]
     },
     "execution_count": 7,
     "metadata": {
      "tags": []
     },
     "output_type": "execute_result"
    }
   ],
   "source": [
    "newTwice = say_anything_twice(10,20)\n",
    "newTwice"
   ]
  },
  {
   "cell_type": "code",
   "execution_count": null,
   "metadata": {
    "colab": {
     "base_uri": "https://localhost:8080/",
     "height": 35
    },
    "colab_type": "code",
    "executionInfo": {
     "elapsed": 684,
     "status": "ok",
     "timestamp": 1590828110017,
     "user": {
      "displayName": "Desmond Sek",
      "photoUrl": "https://lh3.googleusercontent.com/a-/AOh14GjQj9ANFvLsRLkJAoNiRe9I6br32aYvAs1rqTwiF6M=s64",
      "userId": "15004601375355093954"
     },
     "user_tz": -480
    },
    "id": "YcwmFA8Sa0KC",
    "outputId": "8cb9ab00-0ef8-4111-993c-eb604c20e4fa"
   },
   "outputs": [
    {
     "data": {
      "text/plain": [
       "2000"
      ]
     },
     "execution_count": 8,
     "metadata": {
      "tags": []
     },
     "output_type": "execute_result"
    }
   ],
   "source": [
    "say_anything_twice(say_anything_twice(10,20),10)"
   ]
  },
  {
   "cell_type": "markdown",
   "metadata": {
    "colab_type": "text",
    "id": "g-BXFTrqA-6t"
   },
   "source": [
    "#### TASK: Write a function to add three numbers. All the numbers should\n",
    "#### be passed as arguments to the function. Return the result."
   ]
  },
  {
   "cell_type": "code",
   "execution_count": 3,
   "metadata": {
    "colab": {
     "base_uri": "https://localhost:8080/",
     "height": 89
    },
    "colab_type": "code",
    "executionInfo": {
     "elapsed": 12080,
     "status": "ok",
     "timestamp": 1596268112753,
     "user": {
      "displayName": "A M Aditya",
      "photoUrl": "https://lh3.googleusercontent.com/a-/AOh14GgFVWgbF3Mg6wXstyZ41k2zGOCwgYmwsme0Ysan0cI=s64",
      "userId": "15341571102300750919"
     },
     "user_tz": -480
    },
    "id": "VSKtaY_QZVIc",
    "outputId": "04274e48-6b88-4a63-b241-f7bbce9a4ceb"
   },
   "outputs": [],
   "source": [
    "## Write a function to add three numbers. All the numbers should\n",
    "# be passed as arguments to the function. Return the result.\n",
    "\n",
    "# SOLUTION\n",
    "\n"
   ]
  },
  {
   "cell_type": "code",
   "execution_count": null,
   "metadata": {
    "colab": {
     "base_uri": "https://localhost:8080/",
     "height": 35
    },
    "colab_type": "code",
    "executionInfo": {
     "elapsed": 970,
     "status": "ok",
     "timestamp": 1596268004042,
     "user": {
      "displayName": "A M Aditya",
      "photoUrl": "https://lh3.googleusercontent.com/a-/AOh14GgFVWgbF3Mg6wXstyZ41k2zGOCwgYmwsme0Ysan0cI=s64",
      "userId": "15341571102300750919"
     },
     "user_tz": -480
    },
    "id": "E2IPW9IA_HQ3",
    "outputId": "b81092a1-62eb-4a86-ec35-75714cde5304"
   },
   "outputs": [],
   "source": []
  },
  {
   "cell_type": "code",
   "execution_count": 4,
   "metadata": {
    "colab": {},
    "colab_type": "code",
    "id": "oKptkrr5VnaC"
   },
   "outputs": [
    {
     "name": "stdout",
     "output_type": "stream",
     "text": [
      "21312.5\n"
     ]
    }
   ],
   "source": [
    "## Write a function to add three numbers. All the numbers should\n",
    "# be passed as arguments to the function. Return the result.\n",
    "\n",
    "# SOLUTION\n",
    "\n",
    "def addthree(num1, num2, num3):\n",
    "  #add the two numbers and print it here\n",
    "  result = num1 + num2 + num3\n",
    "  result2 = num1 * num2 * num3\n",
    "  return result, result2\n",
    "  \n",
    "temp_result, temp_result2 = addthree(5,5.5,5)\n",
    "\n",
    "# i want to do something with this temporary variable\n",
    "final_result = temp_result *10*temp_result2\n",
    "print(final_result)"
   ]
  },
  {
   "cell_type": "code",
   "execution_count": null,
   "metadata": {
    "colab": {},
    "colab_type": "code",
    "id": "pBrCtrU0-FXu"
   },
   "outputs": [],
   "source": []
  }
 ],
 "metadata": {
  "colab": {
   "collapsed_sections": [],
   "name": "6_Functions.ipynb",
   "provenance": []
  },
  "kernelspec": {
   "display_name": "Python 3 (ipykernel)",
   "language": "python",
   "name": "python3"
  },
  "language_info": {
   "codemirror_mode": {
    "name": "ipython",
    "version": 3
   },
   "file_extension": ".py",
   "mimetype": "text/x-python",
   "name": "python",
   "nbconvert_exporter": "python",
   "pygments_lexer": "ipython3",
   "version": "3.9.7"
  }
 },
 "nbformat": 4,
 "nbformat_minor": 1
}
