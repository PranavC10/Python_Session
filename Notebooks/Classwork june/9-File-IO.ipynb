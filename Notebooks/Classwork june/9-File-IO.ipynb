{
 "cells": [
  {
   "cell_type": "markdown",
   "metadata": {
    "colab_type": "text",
    "id": "GjILisbB7xlw"
   },
   "source": [
    "# Synopsis\n",
    "\n",
    "In this unit we will earn an important skill, how to read and write files. In order to do that, we will cover:\n",
    "\n",
    "1. How files are organized on a computer and how to view/find file locations with terminal commands from the notebook\n",
    "2. How to open a file and read it\n",
    "3. How to open a file and write text to it. "
   ]
  },
  {
   "cell_type": "markdown",
   "metadata": {
    "colab_type": "text",
    "id": "LDU0Lqom7xlz"
   },
   "source": [
    "# Reading and writing files\n",
    "\n",
    "Typing strings and numbers into an IPython Notebook are great ways to learn basics,\n",
    "but sooner or later you will have to learn how to read data from a file, perform some analysis on that data and ideally save the analysis. \n",
    "\n",
    "But first we need to go over the basics of the filesystem so you know where and how things are located"
   ]
  },
  {
   "cell_type": "markdown",
   "metadata": {
    "colab_type": "text",
    "id": "gcGy9_wSIwb_"
   },
   "source": [
    "### Creating a text file\n",
    "\n",
    "As a first step, let us see how we can create a text file"
   ]
  },
  {
   "cell_type": "code",
   "execution_count": 1,
   "metadata": {
    "colab": {
     "base_uri": "https://localhost:8080/",
     "height": 53
    },
    "colab_type": "code",
    "executionInfo": {
     "elapsed": 1184,
     "status": "ok",
     "timestamp": 1596271471414,
     "user": {
      "displayName": "A M Aditya",
      "photoUrl": "https://lh3.googleusercontent.com/a-/AOh14GgFVWgbF3Mg6wXstyZ41k2zGOCwgYmwsme0Ysan0cI=s64",
      "userId": "15341571102300750919"
     },
     "user_tz": -480
    },
    "id": "GCuloXU5Izgy",
    "outputId": "1ca0483f-b9da-40fb-9f9f-7fab0243fed2"
   },
   "outputs": [
    {
     "name": "stdout",
     "output_type": "stream",
     "text": [
      "<class '_io.TextIOWrapper'>\n",
      "File has been created successfully\n"
     ]
    }
   ],
   "source": [
    "file = open(\"testfile.txt\",\"w\") \n",
    "# w is write mode\n",
    "print(type(file))\n",
    " \n",
    "file.write(\"Hello World, My name is Desmond! \\n\")  #\\n actually indicates a next line!\n",
    "file.write(\"This is a new text file \\n\") \n",
    "file.write(\"and this is the next line \\n\") \n",
    "file.write(\"Why? Because we rock.\") \n",
    " \n",
    "file.close() \n",
    "print('File has been created successfully')"
   ]
  },
  {
   "cell_type": "markdown",
   "metadata": {
    "colab_type": "text",
    "id": "ek9RB4rAKQyi"
   },
   "source": [
    "### Reading the created text file"
   ]
  },
  {
   "cell_type": "code",
   "execution_count": null,
   "metadata": {
    "colab": {
     "base_uri": "https://localhost:8080/",
     "height": 86
    },
    "colab_type": "code",
    "executionInfo": {
     "elapsed": 790,
     "status": "ok",
     "timestamp": 1590828901004,
     "user": {
      "displayName": "Desmond Sek",
      "photoUrl": "https://lh3.googleusercontent.com/a-/AOh14GjQj9ANFvLsRLkJAoNiRe9I6br32aYvAs1rqTwiF6M=s64",
      "userId": "15004601375355093954"
     },
     "user_tz": -480
    },
    "id": "9pZDsI17I8gf",
    "outputId": "f6d32654-5e65-4ca7-d4a9-03bd6dece592"
   },
   "outputs": [],
   "source": []
  },
  {
   "cell_type": "code",
   "execution_count": 1,
   "metadata": {
    "colab": {
     "base_uri": "https://localhost:8080/",
     "height": 35
    },
    "colab_type": "code",
    "executionInfo": {
     "elapsed": 874,
     "status": "ok",
     "timestamp": 1590828936488,
     "user": {
      "displayName": "Desmond Sek",
      "photoUrl": "https://lh3.googleusercontent.com/a-/AOh14GjQj9ANFvLsRLkJAoNiRe9I6br32aYvAs1rqTwiF6M=s64",
      "userId": "15004601375355093954"
     },
     "user_tz": -480
    },
    "id": "blrNRk62JN-N",
    "outputId": "df6cf59b-a839-4f42-820a-9e3753be09f2"
   },
   "outputs": [],
   "source": [
    "# Printing the first n characters of the file\n"
   ]
  },
  {
   "cell_type": "markdown",
   "metadata": {
    "colab_type": "text",
    "id": "T--IqKSwKT74"
   },
   "source": [
    "### Reading the text file line by line"
   ]
  },
  {
   "cell_type": "code",
   "execution_count": null,
   "metadata": {
    "colab": {
     "base_uri": "https://localhost:8080/",
     "height": 53
    },
    "colab_type": "code",
    "executionInfo": {
     "elapsed": 903,
     "status": "ok",
     "timestamp": 1596271778595,
     "user": {
      "displayName": "A M Aditya",
      "photoUrl": "https://lh3.googleusercontent.com/a-/AOh14GgFVWgbF3Mg6wXstyZ41k2zGOCwgYmwsme0Ysan0cI=s64",
      "userId": "15341571102300750919"
     },
     "user_tz": -480
    },
    "id": "7a4LhTQgJmq2",
    "outputId": "640978ca-d68d-4f3d-a6b8-957756ea1fc3"
   },
   "outputs": [],
   "source": []
  },
  {
   "cell_type": "code",
   "execution_count": null,
   "metadata": {
    "colab": {
     "base_uri": "https://localhost:8080/",
     "height": 53
    },
    "colab_type": "code",
    "executionInfo": {
     "elapsed": 905,
     "status": "ok",
     "timestamp": 1596271786520,
     "user": {
      "displayName": "A M Aditya",
      "photoUrl": "https://lh3.googleusercontent.com/a-/AOh14GgFVWgbF3Mg6wXstyZ41k2zGOCwgYmwsme0Ysan0cI=s64",
      "userId": "15341571102300750919"
     },
     "user_tz": -480
    },
    "id": "3rLptWycNnCW",
    "outputId": "9f19d74d-6b99-4ecd-8035-8e47b33fc7a6"
   },
   "outputs": [],
   "source": []
  },
  {
   "cell_type": "markdown",
   "metadata": {
    "colab_type": "text",
    "id": "00L4A-_YKvk3"
   },
   "source": [
    "### Reading all the lines in the text file together"
   ]
  },
  {
   "cell_type": "code",
   "execution_count": null,
   "metadata": {
    "colab": {
     "base_uri": "https://localhost:8080/",
     "height": 296
    },
    "colab_type": "code",
    "executionInfo": {
     "elapsed": 947,
     "status": "ok",
     "timestamp": 1590829038274,
     "user": {
      "displayName": "Desmond Sek",
      "photoUrl": "https://lh3.googleusercontent.com/a-/AOh14GjQj9ANFvLsRLkJAoNiRe9I6br32aYvAs1rqTwiF6M=s64",
      "userId": "15004601375355093954"
     },
     "user_tz": -480
    },
    "id": "PDW74bc_J46O",
    "outputId": "08378438-50b4-4de5-8624-f7ecadcd30ce"
   },
   "outputs": [
    {
     "name": "stdout",
     "output_type": "stream",
     "text": [
      "<class 'list'>\n",
      "Hello World, My name is Desmond! \n",
      "\n",
      "This is a new text file \n",
      "\n",
      "and this is the next line \n",
      "\n",
      "Why? Because we rock.\n",
      "------------ printing one at a time ----------\n",
      "['Hello World, My name is Desmond! \\n', 'This is a new text file \\n', 'and this is the next line \\n', 'Why? Because we rock.']\n",
      "This is a new text file \n",
      "\n",
      "and this is the next line \n",
      "\n",
      "['Hello World, My name is Desmond! \\n', 'This is a new text file \\n', 'and this is the next line \\n']\n"
     ]
    }
   ],
   "source": [
    "file = open(\"testfile.txt\", \"r\") \n",
    "all_lines_from_file = file.readlines() #give all the lines as elements of a list\n",
    "print(type(all_lines_from_file))\n",
    "\n",
    "for i in all_lines_from_file:\n",
    "  print(i)\n",
    "\n",
    "\n",
    "print(\"------------ printing one at a time ----------\")\n",
    "print(all_lines_from_file)\n",
    "print(all_lines_from_file[1])\n",
    "print(all_lines_from_file[2])\n",
    "print(all_lines_from_file[0:3])"
   ]
  },
  {
   "cell_type": "markdown",
   "metadata": {
    "colab_type": "text",
    "id": "l23GuBnlK0br"
   },
   "source": [
    "### Overwriting existing files"
   ]
  },
  {
   "cell_type": "code",
   "execution_count": 4,
   "metadata": {
    "colab": {},
    "colab_type": "code",
    "executionInfo": {
     "elapsed": 1073,
     "status": "ok",
     "timestamp": 1596272149947,
     "user": {
      "displayName": "A M Aditya",
      "photoUrl": "https://lh3.googleusercontent.com/a-/AOh14GgFVWgbF3Mg6wXstyZ41k2zGOCwgYmwsme0Ysan0cI=s64",
      "userId": "15341571102300750919"
     },
     "user_tz": -480
    },
    "id": "K-3rwkqXKF7R"
   },
   "outputs": [],
   "source": [
    "file = open(\"testfile.txt\",\"w\") \n",
    "# 'w' mode will overwrite existing content - SO BE CAREFUL!!!\n",
    "\n",
    "file.write(\"More Lines \\n\") \n",
    "file.write(\"This is the old text file \\n\") \n",
    "\n",
    "file.close()"
   ]
  },
  {
   "cell_type": "code",
   "execution_count": 5,
   "metadata": {
    "colab": {
     "base_uri": "https://localhost:8080/",
     "height": 71
    },
    "colab_type": "code",
    "executionInfo": {
     "elapsed": 1261,
     "status": "ok",
     "timestamp": 1596272151627,
     "user": {
      "displayName": "A M Aditya",
      "photoUrl": "https://lh3.googleusercontent.com/a-/AOh14GgFVWgbF3Mg6wXstyZ41k2zGOCwgYmwsme0Ysan0cI=s64",
      "userId": "15341571102300750919"
     },
     "user_tz": -480
    },
    "id": "cbLgri6SLDQA",
    "outputId": "d0539e0b-bfcb-4912-e06e-d1cef3f68e3f"
   },
   "outputs": [
    {
     "name": "stdout",
     "output_type": "stream",
     "text": [
      "More Lines \n",
      "This is the old text file \n",
      "\n"
     ]
    }
   ],
   "source": [
    "file = open(\"testfile.txt\", \"r\") \n",
    "print(file.read()) "
   ]
  },
  {
   "cell_type": "markdown",
   "metadata": {
    "colab_type": "text",
    "id": "L110hqInLYcT"
   },
   "source": [
    "### Appending to a file"
   ]
  },
  {
   "cell_type": "code",
   "execution_count": 6,
   "metadata": {
    "colab": {},
    "colab_type": "code",
    "executionInfo": {
     "elapsed": 1044,
     "status": "ok",
     "timestamp": 1596272365322,
     "user": {
      "displayName": "A M Aditya",
      "photoUrl": "https://lh3.googleusercontent.com/a-/AOh14GgFVWgbF3Mg6wXstyZ41k2zGOCwgYmwsme0Ysan0cI=s64",
      "userId": "15341571102300750919"
     },
     "user_tz": -480
    },
    "id": "0Aa0KBP4LFB2"
   },
   "outputs": [],
   "source": [
    "file = open(\"testfile.txt\",\"a\") \n",
    " \n",
    "file.write(\"More Lines \\n\") \n",
    "file.write(\"No more overwriting, only appending \\n\") \n",
    "\n",
    "file.close()"
   ]
  },
  {
   "cell_type": "code",
   "execution_count": 7,
   "metadata": {
    "colab": {
     "base_uri": "https://localhost:8080/",
     "height": 107
    },
    "colab_type": "code",
    "executionInfo": {
     "elapsed": 1743,
     "status": "ok",
     "timestamp": 1596272367250,
     "user": {
      "displayName": "A M Aditya",
      "photoUrl": "https://lh3.googleusercontent.com/a-/AOh14GgFVWgbF3Mg6wXstyZ41k2zGOCwgYmwsme0Ysan0cI=s64",
      "userId": "15341571102300750919"
     },
     "user_tz": -480
    },
    "id": "j15_3hSELSKb",
    "outputId": "d93f54ca-9ac6-4943-c29c-825d70745b4f"
   },
   "outputs": [
    {
     "name": "stdout",
     "output_type": "stream",
     "text": [
      "More Lines \n",
      "This is the old text file \n",
      "More Lines \n",
      "No more overwriting, only appending \n",
      "\n"
     ]
    }
   ],
   "source": [
    "file = open(\"testfile.txt\", \"r\") \n",
    "print(file.read()) "
   ]
  },
  {
   "cell_type": "code",
   "execution_count": null,
   "metadata": {
    "colab": {},
    "colab_type": "code",
    "id": "L6bnWgfwqZTq"
   },
   "outputs": [],
   "source": []
  },
  {
   "cell_type": "markdown",
   "metadata": {
    "colab_type": "text",
    "id": "k5N_iHO-MFh4"
   },
   "source": [
    "## EXERCISE\n",
    "\n",
    "**Problem 1**: <br>\n",
    "Create a file and write 10 lines in the file as follows:\n",
    "\n",
    "i am number 1 <br>\n",
    "i am number 2 <br>\n",
    ". <br>\n",
    ". <br>\n",
    ". <br>\n",
    ".\n",
    "i am number 10\n",
    "\n",
    "and open and read all the lines of the file"
   ]
  },
  {
   "cell_type": "code",
   "execution_count": 8,
   "metadata": {
    "colab": {},
    "colab_type": "code",
    "executionInfo": {
     "elapsed": 1064,
     "status": "ok",
     "timestamp": 1596273070016,
     "user": {
      "displayName": "A M Aditya",
      "photoUrl": "https://lh3.googleusercontent.com/a-/AOh14GgFVWgbF3Mg6wXstyZ41k2zGOCwgYmwsme0Ysan0cI=s64",
      "userId": "15341571102300750919"
     },
     "user_tz": -480
    },
    "id": "u5d0dazWB4QB"
   },
   "outputs": [],
   "source": [
    "# Opening a file in write mode\n",
    "file = open(\"newfile.txt\",\"w\")\n",
    "\n",
    "for x in range(1,11):\n",
    "\n",
    "  # Creating the line to be written into the file\n",
    "  # Notice that x has to be converted to a string\n",
    "\n",
    "  file_line = \"I am number \" + str(x) + \"\\n\"\n",
    "  file.write(file_line)\n",
    "\n",
    "file.close()"
   ]
  },
  {
   "cell_type": "code",
   "execution_count": 9,
   "metadata": {
    "colab": {
     "base_uri": "https://localhost:8080/",
     "height": 215
    },
    "colab_type": "code",
    "executionInfo": {
     "elapsed": 1082,
     "status": "ok",
     "timestamp": 1596273084770,
     "user": {
      "displayName": "A M Aditya",
      "photoUrl": "https://lh3.googleusercontent.com/a-/AOh14GgFVWgbF3Mg6wXstyZ41k2zGOCwgYmwsme0Ysan0cI=s64",
      "userId": "15341571102300750919"
     },
     "user_tz": -480
    },
    "id": "wHZRElloB4NJ",
    "outputId": "32ee46cc-a666-4031-e1b6-c8e536ec434e"
   },
   "outputs": [
    {
     "name": "stdout",
     "output_type": "stream",
     "text": [
      "I am number 1\n",
      "I am number 2\n",
      "I am number 3\n",
      "I am number 4\n",
      "I am number 5\n",
      "I am number 6\n",
      "I am number 7\n",
      "I am number 8\n",
      "I am number 9\n",
      "I am number 10\n",
      "\n"
     ]
    }
   ],
   "source": [
    "# Reading the file to show that everything is written\n",
    "file = open(\"newfile.txt\",\"r\")\n",
    "print(file.read())"
   ]
  },
  {
   "cell_type": "markdown",
   "metadata": {
    "colab_type": "text",
    "id": "lf90HE8lFcFr"
   },
   "source": [
    "## Problem 2:\n",
    "I want to write only numbers which are greater than 5 into the file and not write the rest."
   ]
  },
  {
   "cell_type": "code",
   "execution_count": null,
   "metadata": {
    "colab": {},
    "colab_type": "code",
    "id": "1rfIf6sjB4MA"
   },
   "outputs": [],
   "source": [
    "# Opening a file in write mode\n",
    "file = open(\"newfile.txt\",\"w\")\n",
    "\n",
    "for x in range(1,11):\n",
    "\n",
    "  # Creating the line to be written into the file\n",
    "  # Notice that x has to be converted to a string\n",
    "\n",
    "  if x>=6:\n",
    "    file_line = \"I am number \" + str(x) + \"\\n\"\n",
    "    file.write(file_line)\n",
    "\n",
    "file.close()"
   ]
  },
  {
   "cell_type": "markdown",
   "metadata": {
    "colab_type": "text",
    "id": "8bAs1PhCGJua"
   },
   "source": [
    "## Take Home Exercises\n",
    "\n",
    "1) Using for loops and the knowledge of files. can you print the following pattern in a file.\n",
    "\n",
    "++ <br>\n",
    "+++ <br>\n",
    "++++ <br>\n",
    "+++++ <br>\n",
    "++++++ <br>"
   ]
  },
  {
   "cell_type": "code",
   "execution_count": null,
   "metadata": {
    "colab": {},
    "colab_type": "code",
    "id": "-S2CAjhxGYKh"
   },
   "outputs": [],
   "source": []
  }
 ],
 "metadata": {
  "colab": {
   "collapsed_sections": [],
   "name": "1_File-IO.ipynb",
   "provenance": []
  },
  "kernelspec": {
   "display_name": "Python 3 (ipykernel)",
   "language": "python",
   "name": "python3"
  },
  "language_info": {
   "codemirror_mode": {
    "name": "ipython",
    "version": 3
   },
   "file_extension": ".py",
   "mimetype": "text/x-python",
   "name": "python",
   "nbconvert_exporter": "python",
   "pygments_lexer": "ipython3",
   "version": "3.9.7"
  }
 },
 "nbformat": 4,
 "nbformat_minor": 1
}
